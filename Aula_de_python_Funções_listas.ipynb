{
  "cells": [
    {
      "cell_type": "markdown",
      "source": [
        "2 comandos Python básicos sobre a linguagem\n",
        "Separamos 12 comandos Python básicos mais conhecidos na linguagem para você se familiarizar com eles.\n",
        "\n",
        "Confira:\n",
        "\n",
        "Print () pula para a próxima linha\n",
        "\n",
        "Input () aguarda o desenvolvedor digitar algo (valor) com uma sequência de caracteres\n",
        "\n",
        "Zip () empacota uma combinação sequencial em listas\n",
        "\n",
        "Enumerate () enumera um objeto ou retoma a sua contagem\n",
        "\n",
        "Range () cria uma linha sequencial de números\n",
        "\n",
        "Help () oferece ajuda em determinadas situações\n",
        "\n",
        "Id () retoma a identidade de um objeto\n",
        "\n",
        "Dir () retoma os métodos de um objeto\n",
        "\n",
        "Str () converte um objeto em texto\n",
        "\n",
        "Int () converte um objeto em número inteiro\n",
        "\n",
        "If () para executar em caso de a condição testada ser verdadeira\n",
        "\n",
        "Else () para executar em caso de a condição testada ser falsa.\n"
      ],
      "metadata": {
        "id": "f6gSZ0n2Q6od"
      }
    },
    {
      "cell_type": "code",
      "source": [
        "# exercicios:\n",
        "lista =[1,2,3,4,5,6,7,8,9,10,11,12,13,14,15]\n",
        "lista"
      ],
      "metadata": {
        "id": "vJrIeBedZpA1",
        "colab": {
          "base_uri": "https://localhost:8080/"
        },
        "outputId": "4eb75f17-8cde-4d9b-d0be-0a7d1780c553"
      },
      "execution_count": null,
      "outputs": [
        {
          "output_type": "execute_result",
          "data": {
            "text/plain": [
              "[1, 2, 3, 4, 5, 6, 7, 8, 9, 10, 11, 12, 13, 14, 15]"
            ]
          },
          "metadata": {},
          "execution_count": 1
        }
      ]
    },
    {
      "cell_type": "code",
      "source": [
        "# intervalo de 1 a 9\n",
        "print(lista[:9])"
      ],
      "metadata": {
        "id": "ol-oXGN9aOxs",
        "colab": {
          "base_uri": "https://localhost:8080/"
        },
        "outputId": "9f6f6de7-10c1-4c2a-e7db-29d1ed3a21bc"
      },
      "execution_count": null,
      "outputs": [
        {
          "output_type": "stream",
          "name": "stdout",
          "text": [
            "[1, 2, 3, 4, 5, 6, 7, 8, 9]\n"
          ]
        }
      ]
    },
    {
      "cell_type": "code",
      "source": [
        "# intervalo de 8 a 13\n",
        "print(lista[7:13])"
      ],
      "metadata": {
        "id": "G3F5cEeFbEvt",
        "colab": {
          "base_uri": "https://localhost:8080/"
        },
        "outputId": "61da6b99-aaa8-4a86-cd41-518f876cfd22"
      },
      "execution_count": null,
      "outputs": [
        {
          "output_type": "stream",
          "name": "stdout",
          "text": [
            "[8, 9, 10, 11, 12, 13]\n"
          ]
        }
      ]
    },
    {
      "cell_type": "code",
      "source": [
        "# numero impares \n",
        "print(lista[::2])"
      ],
      "metadata": {
        "id": "TvdRjU9Geqac"
      },
      "execution_count": null,
      "outputs": []
    },
    {
      "cell_type": "code",
      "source": [
        "# números inverso\n",
        "print(lista[::-2])"
      ],
      "metadata": {
        "id": "uLegn_gqfKc-"
      },
      "execution_count": null,
      "outputs": []
    },
    {
      "cell_type": "code",
      "source": [
        "# números impares \n",
        "print(lista[0::2])"
      ],
      "metadata": {
        "id": "Vjbog5LyjTC-"
      },
      "execution_count": null,
      "outputs": []
    },
    {
      "cell_type": "code",
      "source": [
        "numeros = [17, 123, 87, 34, 66, 8398, 44]\n",
        "print(numeros[2])# exibe o número da posição dois.\n",
        "print(numeros[9-8]) #exibe o número da posição dois. \n",
        "print(numeros[-2]) # exibe o número da segunda posição inverso. \n",
        "print(numeros[len(numeros)-1])  # exibe o ultimo número"
      ],
      "metadata": {
        "id": "7dHQ-M5S08lf"
      },
      "execution_count": null,
      "outputs": []
    },
    {
      "cell_type": "code",
      "source": [
        "uma_lista = ['a', 'b', 'c', 'd', 'e', 'f']\n",
        "print(uma_lista[1:3]) \n",
        "print(uma_lista[:4]) # ate a posição 4\n",
        "print(uma_lista[3:]) # três ultimas posições\n",
        "print(uma_lista[:]) # lista inteira"
      ],
      "metadata": {
        "colab": {
          "base_uri": "https://localhost:8080/"
        },
        "id": "dCQ1jz_jJjer",
        "outputId": "4f715325-8bcc-4b40-fcc0-4edb9c972f85"
      },
      "execution_count": null,
      "outputs": [
        {
          "output_type": "stream",
          "name": "stdout",
          "text": [
            "['b', 'c']\n",
            "['a', 'b', 'c', 'd']\n",
            "['d', 'e', 'f']\n",
            "['a', 'b', 'c', 'd', 'e', 'f']\n"
          ]
        }
      ]
    },
    {
      "cell_type": "code",
      "source": [
        "vocabulario = [\"iteracao\", \"selecao\", \"controle\"]\n",
        "numeros = [17, 123]\n",
        "vazia = []\n",
        "lista_mista = [\"ola\", 2.0, 5*2, [10, 20]]\n",
        "print(numeros) # exibe a lista numeros\n",
        "print(lista_mista) # exibe a lista mista\n",
        "nova_lista = [numeros, vocabulario]\n",
        "print(nova_lista) # exibe a nova lista "
      ],
      "metadata": {
        "id": "MsNLhd5tKP7O"
      },
      "execution_count": null,
      "outputs": []
    },
    {
      "cell_type": "code",
      "source": [
        "#Concatenação e repetição\n",
        "# como com strings, o operador + concatena listas. Analogamente,\n",
        "# o operador * repete os itens em uma lista um dado número de vezes.\n",
        "\n",
        "frutas = [\"maca\", \"laranja\", \"banana\", \"cereja\"]\n",
        "print([1, 2] + [3, 4])\n",
        "print(frutas + [6, 7, 8, 9])\n",
        "\n",
        "print([0] * 4)\n",
        "print([1, 2, [\"ola\", \"IFMG\"]]*2)"
      ],
      "metadata": {
        "id": "XKz0wHgqIIRH"
      },
      "execution_count": null,
      "outputs": []
    },
    {
      "cell_type": "code",
      "source": [
        "# Mostre quantas vezes o numero aparece na lista \n",
        "lista = [1, 10, 2 ,5 , 10, 10, 3, 10, 4, 5, 2, 6]\n",
        "cont = 0\n",
        "for i in range(len(lista)):\n",
        " if lista[i] == 10:\n",
        "  cont += 1\n",
        "print(cont)\n",
        "\n"
      ],
      "metadata": {
        "colab": {
          "base_uri": "https://localhost:8080/"
        },
        "id": "ScLpy_g_0ACR",
        "outputId": "75f1dae6-1e93-4803-8a6c-edffcd05a937"
      },
      "execution_count": null,
      "outputs": [
        {
          "output_type": "stream",
          "name": "stdout",
          "text": [
            "4\n"
          ]
        }
      ]
    },
    {
      "cell_type": "code",
      "source": [
        "# Alternativa: método count(elemento)\n",
        "lista = [1, 10, 2, 10, 3, 10, 10, 10, 4, 5, 6]\n",
        "cont = lista.count(10)\n",
        "print(cont) \n"
      ],
      "metadata": {
        "colab": {
          "base_uri": "https://localhost:8080/"
        },
        "id": "lbjtL6pg3yE8",
        "outputId": "84119d9c-0bbc-4393-aeb5-93f316c9feff"
      },
      "execution_count": null,
      "outputs": [
        {
          "output_type": "stream",
          "name": "stdout",
          "text": [
            "5\n"
          ]
        }
      ]
    },
    {
      "cell_type": "code",
      "source": [
        "# Inserir um elemento no final da lista\n",
        "# Já sabemos usar o método append(elemento)\n",
        "lista = [1, 2, 3]\n",
        "lista.append(4)\n",
        "lista\n",
        "[1, 2, 3, 4] "
      ],
      "metadata": {
        "id": "x5GumwsR4Fx3"
      },
      "execution_count": null,
      "outputs": []
    },
    {
      "cell_type": "code",
      "source": [
        "# Inserir os elementos de lista2 ao final de lista1\n",
        "lista1 = [1, 2, 3, 4]\n",
        "lista2 = [5, 6, 7]\n",
        "for i in range(len(lista2)):\n",
        " lista1.append(lista2[i])\n",
        "print(lista1)"
      ],
      "metadata": {
        "id": "QTcLSwej4ll2"
      },
      "execution_count": null,
      "outputs": []
    },
    {
      "cell_type": "code",
      "source": [
        "#Usar a operação de soma (+)\n",
        "lista1 = [1, 2, 3, 4]\n",
        "lista2 = [5, 6, 7]\n",
        "lista1 = lista1 + lista2\n",
        "print(lista1)"
      ],
      "metadata": {
        "colab": {
          "base_uri": "https://localhost:8080/"
        },
        "id": "s8N13G-G4zO-",
        "outputId": "9ff60fc8-eb14-41fa-acaf-72c5a84909da"
      },
      "execution_count": null,
      "outputs": [
        {
          "output_type": "stream",
          "name": "stdout",
          "text": [
            "[1, 2, 3, 4, 5, 6, 7]\n"
          ]
        }
      ]
    },
    {
      "cell_type": "code",
      "source": [
        "#Alternativa: método extend(lista2)\n",
        "# Inserir os elementos de lista2 ao final de lista1\n",
        "lista1 = [1, 2, 3, 4]\n",
        "lista2 = [5, 6, 7]\n",
        "lista1.extend(lista2)\n",
        "print(lista1)"
      ],
      "metadata": {
        "id": "B83OI-bh48hZ"
      },
      "execution_count": null,
      "outputs": []
    },
    {
      "cell_type": "code",
      "source": [
        "# Inserir o elemento 10 na posição 2 de uma lista (ou seja,\n",
        "# inserir como terceiro elemento da lista)\n",
        "lista = [1, 2, 3, 4]\n",
        "lista.append(0)\n",
        "pos = 2\n",
        "# abre espaço para inserir o novo elemento\n",
        "for i in range(len(lista)-1, pos-1, -1):\n",
        " lista[i] = lista[i-1]\n",
        "lista[pos] = 10\n",
        "print(lista)"
      ],
      "metadata": {
        "id": "ZQ9-SV445Lq6"
      },
      "execution_count": null,
      "outputs": []
    },
    {
      "cell_type": "code",
      "source": [
        "# Alternativa: método\n",
        "# insert(indice, elemento)\n",
        "lista = [1, 2, 3, 4]\n",
        "lista.insert(2, 10)\n",
        "print(lista)"
      ],
      "metadata": {
        "colab": {
          "base_uri": "https://localhost:8080/"
        },
        "id": "h735OCmH5eOm",
        "outputId": "c03a7b02-0b31-4ed4-d3fb-cf018948ec5e"
      },
      "execution_count": null,
      "outputs": [
        {
          "output_type": "stream",
          "name": "stdout",
          "text": [
            "[1, 2, 10, 3, 4]\n"
          ]
        }
      ]
    },
    {
      "cell_type": "code",
      "source": [
        "# Excluir o elemento da posição 2 da lista [1, 2, 3, 4]\n",
        "lista = [1, 2, 3, 4]\n",
        "pos = 2\n",
        "temp = []\n",
        "for i in range(len(lista)):\n",
        " if i != pos:\n",
        "   temp.append(lista[i])\n",
        "lista = temp\n",
        "print(lista) "
      ],
      "metadata": {
        "id": "UDr4XvzA5qxp"
      },
      "execution_count": null,
      "outputs": []
    },
    {
      "cell_type": "code",
      "source": [
        "# Alternativa: método pop(índice)\n",
        "lista = [1, 2, 3, 4]\n",
        "lista.pop(2)\n",
        "print(lista)\n"
      ],
      "metadata": {
        "colab": {
          "base_uri": "https://localhost:8080/"
        },
        "id": "7NaympJm55Kj",
        "outputId": "93bccd27-103c-4a01-90c2-7df7d7eb68b5"
      },
      "execution_count": null,
      "outputs": [
        {
          "output_type": "stream",
          "name": "stdout",
          "text": [
            "[1, 2, 4]\n"
          ]
        }
      ]
    },
    {
      "cell_type": "code",
      "source": [
        "import pandas as pd"
      ],
      "metadata": {
        "id": "dbRQwz1vil4T"
      },
      "execution_count": null,
      "outputs": []
    },
    {
      "cell_type": "code",
      "source": [
        "s = pd.Series([3, -5, 7, 4], index=['a', 'b', 'c', 'd'])"
      ],
      "metadata": {
        "id": "p0CVZgbq26Tl"
      },
      "execution_count": null,
      "outputs": []
    },
    {
      "cell_type": "code",
      "source": [
        "#Para ler arquivos CSV codificados em ISO\n",
        "pd.read_csv('nome_do_arquivo.csv', encoding='ISO-8859-1')\n",
        "#Para escrever arquivos CSV\n",
        "pd.to_csv('nome_do_arquivo_para_salvar.csv')"
      ],
      "metadata": {
        "id": "z-HEfzD726la"
      },
      "execution_count": null,
      "outputs": []
    },
    {
      "cell_type": "code",
      "source": [
        "import math\n",
        "math.sqrt(9)"
      ],
      "metadata": {
        "id": "nL1NHiyRMJna"
      },
      "execution_count": null,
      "outputs": []
    },
    {
      "cell_type": "code",
      "source": [
        "math.sqrt(8)\n",
        "2.82842712475"
      ],
      "metadata": {
        "id": "tqVJol2yMQg-"
      },
      "execution_count": null,
      "outputs": []
    },
    {
      "cell_type": "code",
      "source": [
        "\n",
        "!pip install pywaffle -q\n",
        "import matplotlib.pyplot as plt\n",
        "from pywaffle import Waffle\n",
        "fig = plt.figure(\n",
        "FigureClass = Waffle,\n",
        "rows = 5,\n",
        "values = {'Soja':10,'Milho':26,'Arroz':14},\n",
        "colors = ('#006400','#FFA500','#00008B'),\n",
        "icons = ['leaf','seedling','seedling'],\n",
        "legend = {'loc':'upper_left','bbox_to_anchor':(1,1)},\n",
        "icon_size = 24,\n",
        "icon_legend = True,)\n",
        "fig.set_tight_layout(False)\n",
        "plt.show()"
      ],
      "metadata": {
        "id": "yShUfIL1mPvG",
        "colab": {
          "base_uri": "https://localhost:8080/",
          "height": 197
        },
        "outputId": "b3627b09-42a3-4cd4-ae37-6eaca044395b"
      },
      "execution_count": null,
      "outputs": [
        {
          "output_type": "display_data",
          "data": {
            "text/plain": [
              "<Waffle size 432x288 with 1 Axes>"
            ],
            "image/png": "[encoded data removed]"
          },
          "metadata": {
            "needs_background": "light"
          }
        }
      ]
    },
    {
      "cell_type": "markdown",
      "source": [
        "tupla com parenteses "
      ],
      "metadata": {
        "id": "nyR2G6TKWEcP"
      }
    },
    {
      "cell_type": "markdown",
      "source": [],
      "metadata": {
        "id": "hFxt9xqttrtP"
      }
    },
    {
      "cell_type": "code",
      "source": [
        "# tupla com parênteses / declaração implícita\n",
        "tupla_numeros = (10, 20, 30)\n",
        "tupla_numeros\n",
        "(10, 20, 30)"
      ],
      "metadata": {
        "id": "YyCag0nBY7BP"
      },
      "execution_count": null,
      "outputs": []
    },
    {
      "cell_type": "code",
      "source": [
        "#tupla sem parênteses / declaração implícita\n",
        "tupla_nova = 10, 20, 30\n",
        "tupla_nova\n",
        "(10, 20, 30)"
      ],
      "metadata": {
        "id": "csptjf27ZE62",
        "colab": {
          "base_uri": "https://localhost:8080/"
        },
        "outputId": "1f856cf1-df12-4100-97ce-1f10e15e8392"
      },
      "execution_count": null,
      "outputs": [
        {
          "output_type": "execute_result",
          "data": {
            "text/plain": [
              "(10, 20, 30)"
            ]
          },
          "metadata": {},
          "execution_count": 9
        }
      ]
    },
    {
      "cell_type": "code",
      "source": [
        "# tupla com apenas um elemento\n",
        "tupla_elemento = 10,\n",
        "tupla_elemento\n",
        "(10,)"
      ],
      "metadata": {
        "id": "0MOFt5cfZO_V"
      },
      "execution_count": null,
      "outputs": []
    },
    {
      "cell_type": "markdown",
      "source": [
        "É importante dizer que a utilização dos parênteses não é obrigatória. \n",
        "No entanto, é considerada uma boa prática. O uso da vírgula é exigido,\n",
        "pois se ela tiver apenas um elemento, é preciso colocar uma vírgula \n",
        "depois dele para que o Python entenda que se trata de uma tupla. \n",
        "Já no caso de uma tupla vazia, a representação será feita com parênteses\n",
        "sem nenhum elemento."
      ],
      "metadata": {
        "id": "cJguE_hJQzLU"
      }
    },
    {
      "cell_type": "code",
      "source": [
        "# tupla vazia\n",
        "tupla_vazia = ()\n",
        "tupla_vazia\n",
        "()"
      ],
      "metadata": {
        "id": "QyCdCqCGbGpt"
      },
      "execution_count": null,
      "outputs": []
    },
    {
      "cell_type": "markdown",
      "source": [
        "Outra forma de declarar uma tupla é por meio da função tuple(),\n",
        "que converte o valor atribuído em uma tupla. Confira o exemplo\n",
        "no código fonte abaixo:"
      ],
      "metadata": {
        "id": "Ian7DbnPQ8Gm"
      }
    },
    {
      "cell_type": "code",
      "source": [
        "nova_tupla = tuple('Teste')\n",
        "nova_tupla"
      ],
      "metadata": {
        "id": "Y0fW8G8ibpTP"
      },
      "execution_count": null,
      "outputs": []
    },
    {
      "cell_type": "code",
      "source": [
        "tupla_vazia = tuple()\n",
        "tupla_vazia\n",
        "()"
      ],
      "metadata": {
        "id": "XmJHO2LHbNFW"
      },
      "execution_count": null,
      "outputs": []
    },
    {
      "cell_type": "markdown",
      "source": [
        "Há ainda a possibilidade de nomear os elementos de uma tupla. \n",
        "Dessa forma, facilita a sua aplicação, pois permite o uso \n",
        "diretamente pelo índice. Isso é feito com a utilização de uma \n",
        "função chamada namedtuple() da biblioteca collections do Python. \n",
        "Confira o exemplo, a seguir:\n"
      ],
      "metadata": {
        "id": "pAKayEt-RBsr"
      }
    },
    {
      "cell_type": "markdown",
      "source": [],
      "metadata": {
        "id": "9FYOgeeYyzM-"
      }
    },
    {
      "cell_type": "code",
      "source": [
        "from collections import namedtuple\n",
        "Estados = namedtuple('Estados', ['sigla', 'nome'])\n",
        "estado_mg = Estados('MG', 'Minas Gerais')\n",
        "estado_mg\n",
        "Estados(sigla='MG', nome='Minas Gerais')\n",
        "estado_mg.sigla\n",
        "'MG'\n",
        "estado_mg.nome\n",
        "'Minas Gerais'"
      ],
      "metadata": {
        "id": "jT4tRhL3b81E",
        "colab": {
          "base_uri": "https://localhost:8080/",
          "height": 36
        },
        "outputId": "38fefef7-4317-40fe-b0ae-1385ac1e13cc"
      },
      "execution_count": null,
      "outputs": [
        {
          "output_type": "execute_result",
          "data": {
            "text/plain": [
              "'Minas Gerais'"
            ],
            "application/vnd.google.colaboratory.intrinsic+json": {
              "type": "string"
            }
          },
          "metadata": {},
          "execution_count": 12
        }
      ]
    },
    {
      "cell_type": "markdown",
      "source": [
        " É possível pesquisar um elemento em uma tupla para verificar se ele existe.\n",
        "Para isso, utilizamos o operador in, que retorna verdadeiro ou falso de \n",
        "acordo com o resultado da pesquisa. Confira o código a seguir.\n",
        "\n",
        "existe determinado elemento na tupla"
      ],
      "metadata": {
        "id": "vMg8rbYpRJ3T"
      }
    },
    {
      "cell_type": "code",
      "source": [
        "\n",
        "elementos_tupla = ('São Paulo', 'Belo Horizonte', 'Fortaleza')\n",
        "print('Belo Horizonte' in elementos_tupla)\n",
        "True\n",
        "# o elemento não existe na tupla\n",
        "elemento_tupla = ('São Paulo', 'Belo Horizonte', 'Fortaleza')\n",
        "print('Rio de Janeiro' in elemento_tupla)\n",
        "False"
      ],
      "metadata": {
        "id": "Pt-sBbMBc3Ax",
        "colab": {
          "base_uri": "https://localhost:8080/"
        },
        "outputId": "5df7a2f2-af09-4634-d751-16bb55e19775"
      },
      "execution_count": null,
      "outputs": [
        {
          "output_type": "stream",
          "name": "stdout",
          "text": [
            "True\n",
            "False\n"
          ]
        },
        {
          "output_type": "execute_result",
          "data": {
            "text/plain": [
              "False"
            ]
          },
          "metadata": {},
          "execution_count": 13
        }
      ]
    },
    {
      "cell_type": "code",
      "source": [
        "nome = ['Maria', 'joão', 'Pedro','Carla', 'Jose','kaio']\n",
        "nota = [8,5,6,10,7]\n",
        "nota2 = [9,9,8,5,8,7,3,2]\n",
        "media = []"
      ],
      "metadata": {
        "id": "j-rqEeJX34UU"
      },
      "execution_count": null,
      "outputs": []
    },
    {
      "cell_type": "code",
      "source": [
        "len(nome) "
      ],
      "metadata": {
        "colab": {
          "base_uri": "https://localhost:8080/"
        },
        "id": "4bgqRbtn5GHK",
        "outputId": "7965aabd-c62a-4d8e-8d76-ea476b14fcd9"
      },
      "execution_count": null,
      "outputs": [
        {
          "output_type": "execute_result",
          "data": {
            "text/plain": [
              "6"
            ]
          },
          "metadata": {},
          "execution_count": 16
        }
      ]
    },
    {
      "cell_type": "code",
      "source": [
        "len(nome) == "
      ],
      "metadata": {
        "id": "AmSAcqqR6Nkb"
      },
      "execution_count": null,
      "outputs": []
    },
    {
      "cell_type": "code",
      "source": [
        "# Como contar os elementos de uma tupla?\n",
        "# Também é possível verificar quantos elementos iguais\n",
        "# existem em uma tupla.\n",
        "#  Confira o exemplo a seguir:\n",
        "\n",
        "tupla_nomes = ('Maria', 'Paulo', 'Maria', 'João', 'Sérgio')\n",
        "print (tupla_nomes.count('Maria'))\n",
        "\n",
        "print (tupla_nomes.count('Sérgio'))\n",
        "\n",
        "print (tupla_nomes.count('Pedro'))\n"
      ],
      "metadata": {
        "id": "CqdsXoM_dT7H"
      },
      "execution_count": null,
      "outputs": []
    },
    {
      "cell_type": "code",
      "source": [
        "lista_compras = ['banana','laranja','maçã']\n",
        "print(lista_compras)\n",
        "['banana', 'laranja', 'maçã']"
      ],
      "metadata": {
        "id": "rQusdRzbEdoS"
      },
      "execution_count": null,
      "outputs": []
    },
    {
      "cell_type": "code",
      "source": [
        "#Buscando a posição [1]:\n",
        "print(lista_compras[1])"
      ],
      "metadata": {
        "id": "1jpgzzoWEhoA"
      },
      "execution_count": null,
      "outputs": []
    },
    {
      "cell_type": "code",
      "source": [
        "# Buscando a posição [0]:\n",
        "print(lista_compras[0])"
      ],
      "metadata": {
        "id": "Kq1LHV_XEvuN"
      },
      "execution_count": null,
      "outputs": []
    },
    {
      "cell_type": "markdown",
      "source": [
        "Se tentarmos buscar a posição [3]\n",
        " teremos um erro. Isso corre, \n",
        "porque não existe uma posição 3. \n",
        "Apenas as posições [0], [1], [2]:"
      ],
      "metadata": {
        "id": "aCReDu4-FTC9"
      }
    },
    {
      "cell_type": "code",
      "source": [
        "print(lista_compras[3])"
      ],
      "metadata": {
        "id": "mnttGVMwFL-K"
      },
      "execution_count": null,
      "outputs": []
    },
    {
      "cell_type": "code",
      "source": [
        "# O uso de números negativos permite acessar a lista na ordem inversa:\n",
        "\n",
        "print(lista_compras[-1])\n"
      ],
      "metadata": {
        "id": "wQozK24zfMBn"
      },
      "execution_count": null,
      "outputs": []
    },
    {
      "cell_type": "code",
      "source": [
        "[banana , laranja , maçã]\n",
        "[  0    ,   1     ,  2  ] # Posições números positivos\n",
        "[  -3   ,  -2     , -1  ] # Posições números negativos"
      ],
      "metadata": {
        "id": "mslYazVFiWJM"
      },
      "execution_count": null,
      "outputs": []
    },
    {
      "cell_type": "code",
      "source": [
        "lista_compras.append('carro')\n",
        "print(lista_compras)\n",
        "['banana', 'laranja', 'maçã', 'carro']"
      ],
      "metadata": {
        "id": "iA2EX-J8i0iC"
      },
      "execution_count": null,
      "outputs": []
    },
    {
      "cell_type": "code",
      "source": [
        "#Como criar uma lista do zero no Python?\n",
        "tarefas = []\n",
        "atividade = input('Insira uma atividade: ')\n",
        "#Adiciona a tarefa indicada pelo usuário a lista de tarefas\n",
        "tarefas.append(atividade)\n",
        "#Insira uma atividade: Aula prof. Rubens Palhares\n",
        "\n",
        "print(tarefas)\n",
        "['Aula prof. Rubens Palhares']\n",
        "while atividade:\n",
        "atividade = input('Insira uma atividade: ')\n",
        "tarefas.append(atividade)\n",
        "Insira uma atividade: Aula prof. Rubens Palhares\n",
        "Insira uma atividade: Atividades listas em Python\n",
        "Insira uma atividade:  Aulas praticas\n",
        "Insira uma atividade\n",
        "\n"
      ],
      "metadata": {
        "id": "l1QhRrh1fL-H"
      },
      "execution_count": null,
      "outputs": []
    },
    {
      "cell_type": "code",
      "source": [],
      "metadata": {
        "id": "F25R1vF4kSiH"
      },
      "execution_count": null,
      "outputs": []
    },
    {
      "cell_type": "markdown",
      "source": [
        "Para exibir o índice de um elemento de uma tupla em Python,\n",
        "utilizamos o método index(), que pode conter até três argumentos:\n",
        "\n",
        "elemento: que será procurado na tupla;\n",
        "início: índice inicial da pesquisa, que é opcional;\n",
        "final: índice final da pesquisa, que é opcional.\n",
        "Confira o exemplo, a seguir:"
      ],
      "metadata": {
        "id": "97fkDozPRQqc"
      }
    },
    {
      "cell_type": "code",
      "source": [
        "tupla_nomes = ('Maria', 'João', 'Paulo', 'Pedro', 'Maria', 'Sérgio')\n",
        "indice_tupla = tupla_nomes.index('Maria')\n",
        "print (indice_tupla)\n",
        "\n",
        "indice_tupla2 = tupla_nomes.index('Maria', 0, 5)\n",
        "print (indice_tupla2)\n",
        "\n",
        "indice_tupla3 = tupla_nomes.index('Maria', 2, 5)\n",
        "print (indice_tupla3)\n"
      ],
      "metadata": {
        "id": "0FeQJgvsdraE",
        "colab": {
          "base_uri": "https://localhost:8080/"
        },
        "outputId": "d1873ee1-595b-4c95-ed35-b6a7be82d657"
      },
      "execution_count": null,
      "outputs": [
        {
          "output_type": "stream",
          "name": "stdout",
          "text": [
            "0\n",
            "0\n",
            "4\n"
          ]
        }
      ]
    },
    {
      "cell_type": "markdown",
      "source": [
        " Qual a diferença entre tuplas e listas?\n",
        " A principal diferença entre listas e tuplas é a imutabilidade.\n",
        " No entanto, as listas são objetos mutáveis. Isso significa que \n",
        " é possível adicionar, remover e alterar seus elementos. \n",
        " Além disso, ela contém métodos de iteração, como o append(), insert(), pop(),\n",
        " entre outros, que permitem a sua modificação.\n",
        "\n",
        " Se tentarmos executar uma operação de modificação em uma tupla, será retornado um erro de execução para informar que o objeto tuple não aceita uma atribuição de valores. Confira o exemplo na depuração do código a seguir:\n"
      ],
      "metadata": {
        "id": "BeaQvk5xRaOZ"
      }
    },
    {
      "cell_type": "code",
      "source": [
        "\n",
        "tupla_nomes = ('Maria', 'João', 'Paulo')\n",
        "tupla_nomes[0] = 'Pedro'\n",
        "Traceback (most recent call last):\n",
        "File \"<pyshell#20>\", line 1, in <module>\n",
        "tupla_nomes[0] = 'Pedro'\n",
        "TypeError: 'tuple' object does not support item assignment\n"
      ],
      "metadata": {
        "id": "1Fe4TfqUeN8_"
      },
      "execution_count": null,
      "outputs": []
    },
    {
      "cell_type": "code",
      "source": [
        "# Exemplo de criação de tuplas.\n",
        "\n",
        "tupla_vazia = () # Também é possível fazer: tupla_vazia = tuple()\n",
        "print(\"Tupla vazia: \", tupla_vazia)\n",
        "\n",
        "coordenada_xy = (10, 20)\n",
        "print(\"Exemplo de tupla: \", coordenada_xy)\n",
        "\n",
        "print(\"Tipo de uma tupla: \", type(coordenada))\n",
        "\n",
        "latlon_bh = (-19.8157, -43.9542)\n",
        "print(\"Outro exemplo de criação de tupla: \", latlon_bh)\n"
      ],
      "metadata": {
        "id": "aTC-BOkpfFNn"
      },
      "execution_count": null,
      "outputs": []
    },
    {
      "cell_type": "code",
      "source": [
        "# laço for (para)\n",
        "lista = []\n",
        "lista=['m', 'n','o','p']\n",
        "tupla=(1,3,5,7)# imutaveis não podealterar\n",
        "#print(lista[0]) dic={chave:valor}\n",
        "dicionário={'benedito':1999,\n",
        "            'pedro':8889,\n",
        "            'Mathias':2377}\n",
        "conjunto={1,5,7,9}            \n",
        "string='EuEstouDisposta'\n",
        "print(string[0])\n",
        "print(len(string))\n"
      ],
      "metadata": {
        "id": "UD5gN0SWHmG8",
        "colab": {
          "base_uri": "https://localhost:8080/"
        },
        "outputId": "24ab0b18-626c-4b98-945a-900b79441ac1"
      },
      "execution_count": null,
      "outputs": [
        {
          "output_type": "stream",
          "name": "stdout",
          "text": [
            "E\n",
            "15\n"
          ]
        }
      ]
    },
    {
      "cell_type": "code",
      "source": [
        "#percorrendo a lista\n",
        "for elemento in lista:\n",
        " print(elemento)"
      ],
      "metadata": {
        "id": "ygmxsLCgOvsa",
        "colab": {
          "base_uri": "https://localhost:8080/"
        },
        "outputId": "af000d2d-39a5-4aea-92d5-53fdf2ec2f39"
      },
      "execution_count": null,
      "outputs": [
        {
          "output_type": "stream",
          "name": "stdout",
          "text": [
            "m\n",
            "n\n",
            "o\n",
            "p\n"
          ]
        }
      ]
    },
    {
      "cell_type": "code",
      "source": [
        "# percorrendo a tupla\n",
        "for i in tupla:\n",
        "  print(i)"
      ],
      "metadata": {
        "id": "xTS6JKYMOr3Z",
        "colab": {
          "base_uri": "https://localhost:8080/"
        },
        "outputId": "62a90797-bcd7-4c0e-86b1-7b6c1c421e62"
      },
      "execution_count": null,
      "outputs": [
        {
          "output_type": "stream",
          "name": "stdout",
          "text": [
            "1\n",
            "3\n",
            "5\n",
            "7\n"
          ]
        }
      ]
    },
    {
      "cell_type": "code",
      "source": [
        "# percorrendo o dicionario\n",
        "for chave in dicionário.keys():\n",
        "  print(chave)"
      ],
      "metadata": {
        "id": "aD1IJim7Onci"
      },
      "execution_count": null,
      "outputs": []
    },
    {
      "cell_type": "code",
      "source": [
        "for valor in dicionário.values():\n",
        "  print(valor)"
      ],
      "metadata": {
        "id": "mj1IGQ_WOhR4"
      },
      "execution_count": null,
      "outputs": []
    },
    {
      "cell_type": "code",
      "source": [
        "for chave,valor in dicionário.items():\n",
        "  print(f'A chave é {chave} e o valor '\n",
        "  f' é {valor}')\n"
      ],
      "metadata": {
        "id": "cocGiD1qOTle"
      },
      "execution_count": null,
      "outputs": []
    },
    {
      "cell_type": "code",
      "source": [
        "for i in string:\n",
        "  print(i)"
      ],
      "metadata": {
        "id": "0RNk6_QGNeQK"
      },
      "execution_count": null,
      "outputs": []
    },
    {
      "cell_type": "code",
      "source": [
        "\n",
        "# utilização do comando for utilizando a função\n",
        "# faça um programa que imprime de 1 ate 10\n",
        "for i in range(1,11):\n",
        "  print(i)"
      ],
      "metadata": {
        "id": "PlBxLDYpNyNt"
      },
      "execution_count": null,
      "outputs": []
    },
    {
      "cell_type": "code",
      "source": [
        "for i in range(1,11,2): # imprime de dois em dois numeros impares\n",
        "  print(i)"
      ],
      "metadata": {
        "id": "4X0kVCWqOPaN"
      },
      "execution_count": null,
      "outputs": []
    },
    {
      "cell_type": "code",
      "source": [
        "for i in range(1,11,-2):\n",
        "  print(i)"
      ],
      "metadata": {
        "id": "_MES-kn3PgTz"
      },
      "execution_count": null,
      "outputs": []
    },
    {
      "cell_type": "code",
      "source": [
        "for i in range(1,-11,-2): # imprime de dois em dois numeros impares negativos\n",
        "  print(i)"
      ],
      "metadata": {
        "id": "wh5EAH8LPi35"
      },
      "execution_count": null,
      "outputs": []
    },
    {
      "cell_type": "markdown",
      "source": [
        " Podemos utilizar a estrutura de lista em Python para armazenar\n",
        " múltiplos dados.\n",
        " Listas podem ser criadas de forma implícita, listando os\n",
        " elementos entre colchetes."
      ],
      "metadata": {
        "id": "oL4hb_GLRkTX"
      }
    },
    {
      "cell_type": "markdown",
      "source": [],
      "metadata": {
        "id": "msn5Xxa8sXfK"
      }
    },
    {
      "cell_type": "code",
      "source": [
        "#Podemos utilizar a estrutura de lista em Python para armazenar múltiplos dados. Listas podem ser criadas de forma implícita,\n",
        "# listando os elementos entre colchetes.\n",
        "frutas = 'Abacaxi', 'Banana', 'Caqui', 'Damasco','Embaúba', 'Figo', 'Graviola'\n",
        "print(frutas)"
      ],
      "metadata": {
        "id": "s5BNCh94KExw"
      },
      "execution_count": null,
      "outputs": []
    },
    {
      "cell_type": "code",
      "source": [
        "#Podemos utilizar a estrutura de lista em Python para armazenar múltiplos dados. Listas podem ser criadas de forma implícita,\n",
        "# listando os elementos entre colchetes.\n",
        "frutas = 'Abacaxi', 'Banana', 'Caqui', 'Damasco','Embaúba', 'Figo', 'Graviola'\n",
        "print(frutas)"
      ],
      "metadata": {
        "id": "sxFX2L4cNEAp"
      },
      "execution_count": null,
      "outputs": []
    },
    {
      "cell_type": "code",
      "source": [
        "letras = 'A', 'B','C','D','E','F','G','H'\n",
        "print(letras)"
      ],
      "metadata": {
        "id": "K0GRY8w3NMFP"
      },
      "execution_count": null,
      "outputs": []
    },
    {
      "cell_type": "code",
      "source": [
        "dados = 'Carlos', 19, True, 'Pedro','Ana', 1.78, 2001\n",
        "print(dados)"
      ],
      "metadata": {
        "id": "Aanv3ts1NXvP"
      },
      "execution_count": null,
      "outputs": []
    },
    {
      "cell_type": "code",
      "source": [
        "# selecionando o primeiro elemento de uma listas \n",
        "letras = 'A', 'B','C','D','E','F','G','H'\n",
        "print(letras[7]) # letra H \n",
        "print(letras[-4]) # letra E\n"
      ],
      "metadata": {
        "id": "ElOa25mQNofr"
      },
      "execution_count": null,
      "outputs": []
    },
    {
      "cell_type": "code",
      "source": [
        "\n",
        "# A função len recebe como parâmetro uma lista e retorna o seu\n",
        "# tamanho (número de elementos) Exemplos:\n",
        "frutas = 'Abacaxi','Banana','Caqui','Damasco','Embaúba','Figo'\n",
        "numeros = 1, 1, 2, 3, 5, 8, 13, 21, 34, 55, 89\n",
        "letras = 'A','B','C','D','E','F','G','H'\n",
        "print(len(frutas))\n",
        "print(len(numeros))\n",
        "print(len(letras))"
      ],
      "metadata": {
        "id": "dE-fsYF2Pi0H"
      },
      "execution_count": null,
      "outputs": []
    },
    {
      "cell_type": "code",
      "source": [
        "# Selecionando do segundo até o quarto elemento de uma lista:\n",
        "letras = 'A','B','C','D','E','F','G','H'\n",
        "print(letras[1:4])"
      ],
      "metadata": {
        "id": "tpodnhFXSVsa"
      },
      "execution_count": null,
      "outputs": []
    },
    {
      "cell_type": "code",
      "source": [
        "# Selecionando os três primeiros elementos de uma lista:\n",
        "letras = 'A', 'B','C','D','E','F','G','H'\n",
        "print(letras[:3])"
      ],
      "metadata": {
        "id": "1iINlfqJSre-"
      },
      "execution_count": null,
      "outputs": []
    },
    {
      "cell_type": "code",
      "source": [
        "# Selecionando os quatro últimos elementos de uma lista:\n",
        "letras = 'A','B','C','D','E','F','G','H'\n",
        "print(letras[-4:])"
      ],
      "metadata": {
        "id": "0vJX2P_KS2Oo"
      },
      "execution_count": null,
      "outputs": []
    },
    {
      "cell_type": "code",
      "source": [
        "# Selecionando os elementos das posições pares de uma lista:\n",
        "letras = 'A','B','C','D','E','F','G','H'\n",
        "print(letras[::2])"
      ],
      "metadata": {
        "id": "FiGwKYflTEmG"
      },
      "execution_count": null,
      "outputs": []
    },
    {
      "cell_type": "code",
      "source": [
        "#Selecionando os elementos das posições ímpares de uma lista:\n",
        "letras = 'A','B','C','D','E','F', 'G','H'\n",
        "print(letras[1::2])"
      ],
      "metadata": {
        "id": "66CgzdWmTVUr"
      },
      "execution_count": null,
      "outputs": []
    },
    {
      "cell_type": "code",
      "source": [
        "# Obtendo os elementos de uma lista, em ordem inversa:\n",
        "letras = 'A', 'B', 'C', 'D', 'E', 'F', 'G', 'H'\n",
        "print(letras[::-1])"
      ],
      "metadata": {
        "id": "uGx2A-lfTqJI"
      },
      "execution_count": null,
      "outputs": []
    },
    {
      "cell_type": "code",
      "source": [
        "# tuplas uma variável que guarda varios valores\n",
        "lanche = 'suco', 'Hamburguer', 'Pizza', 'pudin'\n",
        "print(lanche)\n",
        "\n",
        "\n",
        "\n"
      ],
      "metadata": {
        "id": "NhwCg0mDFdvx"
      },
      "execution_count": null,
      "outputs": []
    },
    {
      "cell_type": "code",
      "execution_count": null,
      "metadata": {
        "id": "AkkDG2chgWdr"
      },
      "outputs": [],
      "source": [
        "# Banco de Dados python. \n",
        "dados = {'nome': 'Maria',\n",
        "         'idade': 35,\n",
        "         'empresa': 'IFMG',\n",
        "         'local': 'Ibirite'\n",
        "         }\n",
        "dados"
      ]
    },
    {
      "cell_type": "code",
      "execution_count": null,
      "metadata": {
        "id": "DsMXAFOxhu_S"
      },
      "outputs": [],
      "source": [
        "dados['nome']"
      ]
    },
    {
      "cell_type": "code",
      "execution_count": null,
      "metadata": {
        "id": "dMcNBI0yh4Ey"
      },
      "outputs": [],
      "source": [
        "dados['empresa']"
      ]
    },
    {
      "cell_type": "code",
      "execution_count": null,
      "metadata": {
        "id": "dB8EsdpuiAjc"
      },
      "outputs": [],
      "source": [
        "dados['local']\n"
      ]
    },
    {
      "cell_type": "code",
      "execution_count": null,
      "metadata": {
        "id": "Ibab8hcJlhdZ"
      },
      "outputs": [],
      "source": [
        "filmes = ' Matrix1'\n",
        "filmes = 'Rambo'\n",
        "filmes = 'Naruto'\n",
        "filmes = 'Pequena sereia'\n",
        "filmes = 'Orfã3'\n",
        "filmes = 'Batman'\n",
        "print('A lista de filmes:', filmes)"
      ]
    },
    {
      "cell_type": "code",
      "execution_count": null,
      "metadata": {
        "id": "olqHvt8n-Gfi"
      },
      "outputs": [],
      "source": [
        "# lista de filmes. \n",
        "filmes = ['Matrix1', 'Rambo', 'Naruto', 'Pequena sereia', 'Orfã3',' Batman']\n",
        "filmes"
      ]
    },
    {
      "cell_type": "code",
      "execution_count": null,
      "metadata": {
        "id": "y3sgPfQyk2cs"
      },
      "outputs": [],
      "source": [
        "# Crie uma função que recebe a lista de filmes\n",
        "def imprime_filmes(filmes_que_quero_imprimir):\n",
        "  print('A lista de filmes que tenho disponivel')\n",
        "  print(filmes_que_quero_imprimir)\n",
        "imprime_filmes(filmes)\n",
        "imprime_filmes(filmes)\n",
        "imprime_filmes(filmes)"
      ]
    },
    {
      "cell_type": "code",
      "execution_count": null,
      "metadata": {
        "id": "uRTcf3_8pi4V"
      },
      "outputs": [],
      "source": [
        "# imprima o filme na segunda posição\n",
        "filmes[1]"
      ]
    },
    {
      "cell_type": "code",
      "execution_count": null,
      "metadata": {
        "id": "sy3gZB5gqGRH"
      },
      "outputs": [],
      "source": [
        "filmes[3]"
      ]
    },
    {
      "cell_type": "code",
      "execution_count": null,
      "metadata": {
        "id": "BZv1BxAcqkUb"
      },
      "outputs": [],
      "source": [
        "# imprima o ultimo filme\n",
        "filmes[-1]"
      ]
    },
    {
      "cell_type": "code",
      "execution_count": null,
      "metadata": {
        "id": "M8SOfou4qwn1"
      },
      "outputs": [],
      "source": [
        "# imprima todos os filmes nenos a posição 01. \n",
        "filmes[1:]"
      ]
    },
    {
      "cell_type": "code",
      "execution_count": null,
      "metadata": {
        "id": "EIyD0UHtrPvt"
      },
      "outputs": [],
      "source": [
        "# imprima do penultimo para frente. \n",
        "filmes[-2:]"
      ]
    },
    {
      "cell_type": "code",
      "execution_count": null,
      "metadata": {
        "id": "k5GuLtKZr2-E"
      },
      "outputs": [],
      "source": [
        "for filmes in filmes:\n",
        "  print(filmes)"
      ]
    },
    {
      "cell_type": "code",
      "execution_count": null,
      "metadata": {
        "id": "UjUZSRUxdp-l"
      },
      "outputs": [],
      "source": [
        "# amostra do laço de repetição enquanto estiver no tab \n",
        "for filme in filmes:\n",
        "  print(filme)\n",
        "  print('.....')\n",
        "print('estou fora')"
      ]
    },
    {
      "cell_type": "code",
      "execution_count": null,
      "metadata": {
        "id": "c2USbop4fHVv"
      },
      "outputs": [],
      "source": [
        "def imprime_filmes(filmes_que_quero_imprimir):\n",
        "  print('A lista de filmes que eu tenho disponivel')\n",
        "  for filme in filmes_que_quero_imprimir:\n",
        "    print(filme)\n",
        "imprime_filmes(filmes)\n",
        "\n",
        "\n"
      ]
    },
    {
      "cell_type": "code",
      "execution_count": null,
      "metadata": {
        "id": "JKrnU9XfACso"
      },
      "outputs": [],
      "source": [
        "#1) Escreva uma função que recebe dois parâmetros e imprime o menor dos dois.\n",
        "# Se eles forem iguais, imprima que eles são iguais.\n",
        "\n",
        "def imprime_menor(a, b):\n",
        "    if a < b:\n",
        "      print(a)\n",
        "    elif a > b:\n",
        "      print(b)\n",
        "    else:\n",
        "      print(\"Os números são iguais.\")\n",
        "imprime_menor(0, 5)\n",
        "imprime_menor(10, 3)\n",
        "imprime_menor(42, 42)\n"
      ]
    },
    {
      "cell_type": "markdown",
      "metadata": {
        "id": "J6mJ0peYgd6u"
      },
      "source": [
        "# Nova seção"
      ]
    },
    {
      "cell_type": "markdown",
      "source": [
        "![exelMatplotilb.jpg](data:image/jpeg;base64,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)"
      ],
      "metadata": {
        "id": "PpwTcCB1-vfZ"
      }
    },
    {
      "cell_type": "markdown",
      "source": [
        "# Nova seção"
      ],
      "metadata": {
        "id": "PYpxfrM2-Zij"
      }
    },
    {
      "cell_type": "code",
      "execution_count": null,
      "metadata": {
        "id": "_xUH3QccBKnP"
      },
      "outputs": [],
      "source": [
        "# 2) Escreva uma função que recebe um número n como parâmetro e\n",
        "#  imprime se n é positivo ou negativo.\n",
        "def imprime_sinal(n):\n",
        "    if n < 0:\n",
        "      print(\"O número é Negativo\")\n",
        "    else:\n",
        "      print(\"O número é Positivo\")\n",
        "imprime_sinal(-1)\n",
        "imprime_sinal(5)"
      ]
    },
    {
      "cell_type": "code",
      "execution_count": null,
      "metadata": {
        "id": "bfy7KIRXDLs4"
      },
      "outputs": [],
      "source": [
        "# 3) Escreva uma função para imprimir o valor absoluto de um número.\n",
        "def imprime_valor_absoluto(n):\n",
        "    if n < 0:\n",
        "      n = -n\n",
        "    print(n)\n",
        "imprime_valor_absoluto(-5)\n",
        "imprime_valor_absoluto(10)\n",
        "imprime_valor_absoluto(-1)"
      ]
    },
    {
      "cell_type": "code",
      "execution_count": null,
      "metadata": {
        "id": "vi9URQy2DlON"
      },
      "outputs": [],
      "source": [
        "# 4)Escreva uma função que recebe dois números (a e b) como parâmetro \n",
        "# e retorna True caso a soma dos dois seja maior que um terceiro  parâmetro, \n",
        "#chamado limite.\n",
        "def soma_maior_que_limite(a, b, limite):\n",
        "    if a + b > limite:\n",
        "      return True\n",
        "    else:\n",
        "      return False\n",
        "print(soma_maior_que_limite(10, 5, 15))"
      ]
    },
    {
      "cell_type": "code",
      "execution_count": null,
      "metadata": {
        "id": "QxD8-0ePDvDV"
      },
      "outputs": [],
      "source": [
        "# 5) Escreva uma função que recebe dois números (a e b) como parâmetro\n",
        "# e retorna a quantidade (0, 1 ou 2) deles que é maior que um \n",
        "# terceiro parâmetro, chamado limite.\n",
        "def num_parametros_maior_que_limite(a, b, limite):\n",
        "    if a > limite and b > limite:\n",
        "      return 2\n",
        "    elif a > limite or b > limite:\n",
        "      return 1\n",
        "    else:\n",
        "      return 0\n",
        "print(num_parametros_maior_que_limite(50, 7, 30)"
      ]
    },
    {
      "cell_type": "code",
      "execution_count": null,
      "metadata": {
        "id": "zPuaTNnSEg6O"
      },
      "outputs": [],
      "source": [
        "# 6) Escreva uma função que recebe um número como parâmetro e para\n",
        "# cada número menor que o parâmetro, a função imprime \"MENOR\" \n",
        "# se o número for múltiplo de três, imprime \"MULTIPLO\" se o número \n",
        "# for múltiplo de cinco, e imprime \"MULTIPLO 5\" se o número for\n",
        "#  múltiplo de três e cinco. Caso o número não seja múltiplo \n",
        "# nem de três nem de cinco, ele deve ser impresso. Note que, \n",
        "# ao contrário das funções anteriores, sua função não deve retornar nada. \n",
        "# Ela precisa simplesmente imprimir o que foi pedido.\n",
        "def fizz_buzz(n):\n",
        "    for num in range(n):\n",
        "        if num % 3 == 0 and num % 5 == 0:\n",
        "            print('MULTIPLO 5')\n",
        "        elif num % 3 == 0:\n",
        "            print('MENOR')\n",
        "        elif num % 5 == 0:\n",
        "            print('MULTIPLO')\n",
        "        else:\n",
        "            print(num)\n",
        "print(fizz_buzz(16))\n",
        "\n"
      ]
    },
    {
      "cell_type": "code",
      "execution_count": null,
      "metadata": {
        "id": "39rPUTKmGCUA"
      },
      "outputs": [],
      "source": [
        "# 7) Escreva uma função que, dado um número nota representando \n",
        "# a nota de um estudante, converte o valor de nota para um \n",
        "# conceito (A, B, C, D, E e F).\n",
        "def converte_nota_em_conceito(nota):\n",
        "    if nota >= 60:\n",
        "      return \"A\"\n",
        "    elif nota >= 80:\n",
        "      return \"B\"\n",
        "    elif nota >= 70:\n",
        "      return \"C\"\n",
        "    elif nota >= 60:\n",
        "      return \"D\"\n",
        "    elif nota >= 40:\n",
        "      return \"E\"\n",
        "    else:\n",
        "      return \"F\"\n",
        "print(converte_nota_em_conceito(65))\n",
        "\n",
        "\n",
        "\n"
      ]
    },
    {
      "cell_type": "code",
      "execution_count": null,
      "metadata": {
        "id": "JN5JCLvdGZLs"
      },
      "outputs": [],
      "source": [
        "# 8) Escreva uma função que recebe como entrada uma lista de números\n",
        "# e retorna True se um número passado como parâmetro está presente na lista.\n",
        "def pesquisa_elemento1(numeros, numero_procurado):\n",
        "    for numero in numeros:\n",
        "      if numero == numero_procurado:\n",
        "          return True\n",
        "    return False\n",
        "print(pesquisa_elemento1([1, 10, 20, 30, 50, 100], 30))"
      ]
    },
    {
      "cell_type": "markdown",
      "source": [
        "9)  Escreva uma função que recebe como entrada uma lista ordenada de\n",
        " números e retorna o índice do primeiro elemento maior que um\n",
        " elemento limite. Se nenhum elemento da lista for maior que o limite\n",
        " desejado, retorne o valor -1."
      ],
      "metadata": {
        "id": "5NvJgaJxRrxC"
      }
    },
    {
      "cell_type": "code",
      "execution_count": null,
      "metadata": {
        "id": "2ZEjiloA-y2p"
      },
      "outputs": [],
      "source": [
        " \n",
        "def retorna_primeiro_maior(numeros, limite):\n",
        "    i = 0\n",
        "    while i < len(numeros):\n",
        "      if numeros[i] > limite:\n",
        "          return i\n",
        "      i += 1\n",
        "    return -1\n",
        "print(retorna_primeiro_maior([1, 10, 20, 30, 50, 100], 10))\n",
        "print(retorna_primeiro_maior([1, 10, 20, 30, 50, 100], 200))\n"
      ]
    },
    {
      "cell_type": "markdown",
      "source": [
        "1) Escreva uma função que recebe como entrada um número inteiro\n",
        " positivo n e retorne a soma de todos os inteiros positivos menores ou guais a n."
      ],
      "metadata": {
        "id": "iUd5YfpjRw06"
      }
    },
    {
      "cell_type": "code",
      "execution_count": null,
      "metadata": {
        "id": "fD1bLgTFIR0O"
      },
      "outputs": [],
      "source": [
        "\n",
        "def main():\n",
        "    print(\"Calculo da soma dos n primeiros inteiros positivos\")\n",
        "    # leia o valor de n\n",
        "    n = int(input(\"Digite o valor de n: \"))\n",
        "    # inicialize a soma\n",
        "    soma = 0\n",
        "    # calcule a soma\n",
        "    i = 1\n",
        "    while i <= n:\n",
        "        soma = soma + i\n",
        "        i = i + 1\n",
        "    # imprima a soma\n",
        "    print(\"A soma dos\", n, \"primeiros inteiros positivos é\", soma)\n",
        "main()\n"
      ]
    },
    {
      "cell_type": "markdown",
      "source": [
        " 2) Escreva uma função que recebe como entrada um número ano e retorna\n",
        "True caso ano seja bissexto. Caso contrário, retorne False."
      ],
      "metadata": {
        "id": "G1yyedDQR1Oh"
      }
    },
    {
      "cell_type": "code",
      "execution_count": null,
      "metadata": {
        "id": "r9IArCwlNhxQ"
      },
      "outputs": [],
      "source": [
        "\n",
        "from calendar import isleap\n",
        "ano = int(input('Digite o ano: '))\n",
        "if isleap(ano):\n",
        "    print('É bissexto')\n",
        "else:\n",
        "    print('Não é bissexto')"
      ]
    },
    {
      "cell_type": "code",
      "execution_count": null,
      "metadata": {
        "colab": {
          "background_save": true
        },
        "id": "evgugwjePF4g"
      },
      "outputs": [],
      "source": [
        "# 3) Escreva uma função que recebe como entrada um número n e imprime\n",
        "# todas as potências de 2 menores ou iguais a n.\n",
        "print(\"base ^ expoente:\")\n",
        "base=int(input(\"Base: \"))\n",
        "expoente=int(input(\"Expoente: \"))\n",
        "potencia=1\n",
        "for count in range(expoente):\n",
        "    potencia *= base\n",
        "    count += 1\n",
        "print(base,\"^\",expoente,\"=\",potencia)"
      ]
    },
    {
      "cell_type": "code",
      "execution_count": null,
      "metadata": {
        "id": "_D3T06hpghcb"
      },
      "outputs": [],
      "source": [
        "\n",
        "#4) Escreva uma função que recebe como entrada um número inteiro positivo n  e imprime a representação binária desse número.\n",
        "dividendo = int(input(\"numero (Base decimal) a ser convertido em Binário: \"))\n",
        "numero = dividendo\n",
        "quociente = 1\n",
        "lista = []\n",
        "while quociente >= 1:\n",
        "  resto = dividendo%2\n",
        "  lista.insert(0,resto)\n",
        "  quociente = dividendo // 2\n",
        "  dividendo = quociente\n",
        "binario = ''.join([str(item) for item in lista])\n",
        "print(\"O número\",numero,\",convertido em binário, vale:\",binario)\n"
      ]
    },
    {
      "cell_type": "code",
      "execution_count": null,
      "metadata": {
        "id": "CBDgR0hP2Hp8"
      },
      "outputs": [],
      "source": [
        "# 10) Um exemplo interessante de uso de laços for\n",
        "# é a busca por um elemento em uma lista:\n",
        "elemento = 10\n",
        "estah_presente = False\n",
        "lista = [1, 2, 7, 10, 15, 20, 50]\n",
        "for item in lista:\n",
        "  if item == elemento:\n",
        "    estah_presente = True\n",
        "\n",
        "if estah_presente:\n",
        "  print(\"Elemento está na lista!\")\n",
        "else:\n",
        "  print(\"Elemento não está na lista!\")\n",
        "\n",
        "  "
      ]
    },
    {
      "cell_type": "code",
      "execution_count": null,
      "metadata": {
        "id": "aYN_qdqT9CSZ"
      },
      "outputs": [],
      "source": [
        "#11) Uma outra forma de pesquisar por um elemento em uma lista \n",
        "# em Python é por meio do recurso in:\n",
        "\n",
        "elemento = 10\n",
        "lista = [1, 2, 7, 10, 15]\n",
        "if elemento in lista:\n",
        "  print(\"Está na lista!\")\n",
        "else:\n",
        "  print(\"Não está na lista!\")\n",
        "\n"
      ]
    },
    {
      "cell_type": "code",
      "execution_count": null,
      "metadata": {
        "id": "1xse8v4G9Wpb"
      },
      "outputs": [],
      "source": [
        "#12) Laços while\n",
        "#Além dos laços for, Python conta também com os laços while,\n",
        "# que executam enquanto uma dada condição for verdadeira:\n",
        "\n",
        "i = 1\n",
        "while i < 5:\n",
        "    print(i)\n",
        "    i = i + 1"
      ]
    },
    {
      "cell_type": "code",
      "execution_count": null,
      "metadata": {
        "id": "ikM7x3ONydzK"
      },
      "outputs": [],
      "source": [
        "\n",
        "# 13 programa para calcular horas com hora extra a 1.5 \n",
        "\n",
        "def calcular_pagamento(qtd_horas, valor_hora):\n",
        "  horas = float(qtd_horas)\n",
        "  taxa = float(valor_hora)\n",
        "  if horas <= 40:\n",
        "    salario=horas*taxa\n",
        "  else:\n",
        "    h_excd = horas - 40\n",
        "    salario = 40*taxa+(h_excd*(1.5*taxa))\n",
        "  return salario"
      ]
    },
    {
      "cell_type": "code",
      "execution_count": null,
      "metadata": {
        "id": "ejVpTayhBslB"
      },
      "outputs": [],
      "source": [
        "\n",
        "nome_completo = str(input('Informe o seu nome completo: '))\n",
        "primeiro_nome = lambda nome: nome.split()[0]\n",
        "ultimo_nome = lambda nome: nome.split()[-1]\n",
        "\n",
        "print(f'Seu primeiro nome é {primeiro_nome(nome_completo)} '\n",
        "      f'e o seu último nome é {ultimo_nome(nome_completo)}')\n"
      ]
    },
    {
      "cell_type": "code",
      "execution_count": null,
      "metadata": {
        "id": "UGIItsxNCGeR"
      },
      "outputs": [],
      "source": [
        "\n",
        "numero = int(input('Informe um número qualquer: '))\n",
        "eh_par = lambda numero: numero % 2 == 0\n",
        "\n",
        "if eh_par(numero):\n",
        "    print(f'O número {numero} é par')\n",
        "else:\n",
        "    print(f'O número {numero} é impar')\n"
      ]
    },
    {
      "cell_type": "code",
      "execution_count": null,
      "metadata": {
        "id": "hTYVh9k7CbIo"
      },
      "outputs": [],
      "source": [
        "temperaturas_celsius = [22.5, 40, 13, 29, 34]\n",
        "temperaturas_fahrenheit = list(map(lambda temp: round((9 / 5) * temp + 32, 1), temperaturas_celsius))\n",
        "print(temperaturas_fahrenheit)"
      ]
    },
    {
      "cell_type": "code",
      "execution_count": null,
      "metadata": {
        "id": "u9AFdppwDh1a"
      },
      "outputs": [],
      "source": [
        "from functools import reduce\n",
        "\n",
        "numeros = [54, 10, 29, 87, 7, 64]\n",
        "maior_valor = reduce(lambda n1, n2: n1 if n1 > n2 else n2, numeros)\n",
        "menor_valor = reduce(lambda n1, n2: n1 if n1 < n2 else n2, numeros)\n",
        "print(f'O maior valor da sequência é {maior_valor} e o menor é {menor_valor}')\n",
        "\n",
        "\n"
      ]
    },
    {
      "cell_type": "code",
      "execution_count": null,
      "metadata": {
        "id": "88AjjvUQEHNN"
      },
      "outputs": [],
      "source": [
        "\n",
        "# Analisando Triângulo v1.0\n",
        "# Desenvolva um programa que leia o comprimento de três retas\n",
        "# e diga ao usuário se elas podem ou não formar um triângulo.\n",
        "\n",
        "print('-=' * 20)\n",
        "print('Analisador de Triângulos')\n",
        "print('-=' * 20)\n",
        "r1 = float(input('Primeiro segmento: '))\n",
        "r2 = float(input('Segundo segmento: '))\n",
        "r3 = float(input('Terceiro segmento: '))\n",
        "if r1 < r2 + r3 and r2 < r1 + r3 and r3 < r1 + r2:\n",
        "    print('Os segmentos acima PODEM FORMAR triângulo!')\n",
        "else:\n",
        "    print('Os segmentos acima NÃO PODEM FORMAR triângulo!')\n",
        "\n",
        "    "
      ]
    },
    {
      "cell_type": "code",
      "execution_count": null,
      "metadata": {
        "id": "BPU-e2FSNcCn"
      },
      "outputs": [],
      "source": [
        "def imprime_nome(nome):\n",
        "    print(f\"Nome: {nome}\")\n",
        "imprime_nome(\"Erickson\")\n",
        "imprime_nome(\"Renan\")\n",
        "imprime_nome(\"Daniel\")\n"
      ]
    },
    {
      "cell_type": "code",
      "execution_count": null,
      "metadata": {
        "id": "_A9bc1ESBquF"
      },
      "outputs": [],
      "source": [
        "# Exemplo (bem simples) de função em Python.\n",
        "def f(n): \n",
        " return n**2\n",
        " print(\"O valor do parâmetro é \", n) \n",
        "f(10) "
      ]
    },
    {
      "cell_type": "code",
      "execution_count": null,
      "metadata": {
        "id": "MPYTr1upB7k1"
      },
      "outputs": [],
      "source": [
        "# Exemplo de função que retorna um valor.\n",
        "def f(n):\n",
        "    return n \n",
        "resultado = f(10)\n",
        "print(\"O valor do parâmetro é {}\".format(resultado))\n"
      ]
    },
    {
      "cell_type": "code",
      "execution_count": null,
      "metadata": {
        "id": "oMXYByaVCRJn"
      },
      "outputs": [],
      "source": [
        "\n",
        "# Outro exemplo de função que retorna um valor.\n",
        "def eleva_ao_quadrado(n):\n",
        "    return n**2\n",
        "print(\"O número {} elevado ao quadrado é {}\".format(10, eleva_ao_quadrado(10)))\n"
      ]
    },
    {
      "cell_type": "code",
      "execution_count": null,
      "metadata": {
        "id": "buJ_d2qoCYd8"
      },
      "outputs": [],
      "source": [
        "# Exemplo de função que retorna mais de um valor.\n",
        "def quociente_resto(x, y):\n",
        "    quociente = x // y\n",
        "    resto = x % y\n",
        "    return (quociente, resto)\n",
        "\n",
        "print(\"Quociente e resto: \", quociente_resto(9, 4))\n",
        "\n"
      ]
    },
    {
      "cell_type": "code",
      "execution_count": null,
      "metadata": {
        "id": "ucEQrEXKCntv"
      },
      "outputs": [],
      "source": [
        "\n",
        "def eleva_ao_quadrado(n):\n",
        "    return n ** 2\n",
        "# Função map sem o uso de função lambda.\n",
        "print(list(map(eleva_ao_quadrado, range(5))))\n"
      ]
    },
    {
      "cell_type": "code",
      "execution_count": null,
      "metadata": {
        "id": "Dp-QgN8uCwH9"
      },
      "outputs": [],
      "source": [
        "\n",
        "# Função map com função lambda.\n",
        "print(list(map(lambda x: x ** 2, range(5))))\n",
        "[0, 1, 4, 9, 16]\n"
      ]
    },
    {
      "cell_type": "code",
      "execution_count": null,
      "metadata": {
        "id": "XaNiVkeRINda"
      },
      "outputs": [],
      "source": [
        "preco = 1000\n",
        "def calcular_imposto (preco):\n",
        "  return preco*0.3\n",
        "print(calcular_imposto(preco))"
      ]
    },
    {
      "cell_type": "code",
      "execution_count": null,
      "metadata": {
        "id": "FCoD8C3aI3NT"
      },
      "outputs": [],
      "source": [
        "calcular_imposto2 = lambda x: x*0.3\n",
        "print(calcular_imposto2(preco))"
      ]
    },
    {
      "cell_type": "code",
      "execution_count": null,
      "metadata": {
        "id": "KhbQG1V-GFdd"
      },
      "outputs": [],
      "source": [
        "# um professor quer sortear um dos seus quatro alunos\n",
        "# para apagar o quadro . Faça um programa que ajude ele. \n",
        "# lendo o nome deles e escrevendo o nome do escolhido na tela.\n",
        " \n",
        "from random import choice \n",
        "n1 = str(input('Primeiro aluno:'))\n",
        "n2 = str(input('Segundo aluno:'))\n",
        "n3 = str(input('Terceiro aluno:'))\n",
        "n4 = str(input('Quarto aluno:'))\n",
        "lista = [n1, n2, n3, n4] \n",
        "escolhido = choice(lista)\n",
        "print(' O aluno escolhido foi {}'.format(escolhido))\n"
      ]
    },
    {
      "cell_type": "code",
      "execution_count": null,
      "metadata": {
        "id": "nhXlRgjSK0kt"
      },
      "outputs": [],
      "source": [
        "\n",
        "# O mesmo professor quer sortear a ordem de apresentação de trabalhos\n",
        "# dos alunos. Faça um programa que leia o nome dos quatro alunos\n",
        "# e mostre a ordem sorteada.\n",
        "from random import shuffle \n",
        "n1 = str(input('Primeiro aluno:'))\n",
        "n2 = str(input('Segundo aluno:'))\n",
        "n3 = str(input('Terceiro aluno:'))\n",
        "n4 = str(input('Quarto aluno:'))\n",
        "lista = [n1, n2, n3, n4] \n",
        "shuffle(lista)\n",
        "print('A ordem de apresentação será:')\n",
        "print(lista)\n",
        "\n",
        "\n",
        "\n"
      ]
    },
    {
      "cell_type": "code",
      "execution_count": null,
      "metadata": {
        "id": "QWqN79n_EBlM"
      },
      "outputs": [],
      "source": [
        "\n",
        "# Faça um programa qeu leia o comprimento do cateto\n",
        "# opoto do cateto adjacente de um triângulo retângulo\n",
        "# Calcule e mostre o comprimento da hipotenusa.\n",
        " \n",
        "from math import hypot\n",
        "cosseno = float(input('Comprimento do cateto oposto'))\n",
        "cateto = float(input('Comprimento do cateto adjacente'))\n",
        "hi = hypot(cosseno, cateto)\n",
        "print('A hipotenusa vai medir {:.2f}'.format(hi))\n",
        "\n",
        "\n"
      ]
    },
    {
      "cell_type": "code",
      "execution_count": null,
      "metadata": {
        "id": "6LX_AjK6_muu"
      },
      "outputs": [],
      "source": [
        "\n",
        "# Faça um program que leia a largura e a altura\n",
        "# de uma parede em metros. Calcule a sua área e \n",
        "# a quantidade de tinta necessária para pinta - la\n",
        "# sabendo que cada litro de tinta pinta uma area de 2m².\n",
        "\n",
        "larg = float(input('Largura da parede: '))\n",
        "alt = float(input('Altura da parede:'))\n",
        "\n",
        "área = larg * alt\n",
        "print('sua parede tem a dimensão de {}x{} e sua área é de {}m².'.format(larg, alt, área))\n",
        "\n",
        "tinta = área / 2 \n",
        "print(' Para pintar essa parede, prescisará de {}l de tinta'.format(tinta))\n",
        "\n",
        "\n",
        "\n",
        "\n"
      ]
    },
    {
      "cell_type": "code",
      "execution_count": null,
      "metadata": {
        "id": "LNH_w7O150R3"
      },
      "outputs": [],
      "source": [
        "# Faça um programa que leia um ângulo qualquer \n",
        "# e mostre na tela o valor do seno  cosseno e tangente desse ângulo. \n",
        "import math\n",
        "ângulo = float(input('Digite o ângulo que voce deseja.')) \n",
        "\n",
        "seno = math.sin(math.radians(ângulo))\n",
        "print('O ângulo de {} tem o SENO de{:.2f}'.format(ângulo,seno))\n",
        "\n",
        "cosseno = math.cos(math.radians(ângulo))\n",
        "print(' O ângulo de{} tem o COSSENO DE {:.2f}'.format(ângulo, cosseno))\n",
        "\n",
        "tangente = math.tan(math.radians(ângulo))\n",
        "print('O ângulo de {} tem TANGENTE de {:.2f}'.format(ângulo, tangente))\n"
      ]
    },
    {
      "cell_type": "markdown",
      "metadata": {
        "id": "SCEZ2rvc7SeU"
      },
      "source": []
    },
    {
      "cell_type": "code",
      "execution_count": null,
      "metadata": {
        "id": "KxZs9JLu8yqv"
      },
      "outputs": [],
      "source": [
        "# Faça um Programa que leia um vetor de 5 números inteiros e mostre-os.\n",
        "vetorList = [1, 4, 9, 22, 18,]\n",
        " \n",
        "i = 0\n",
        "while i < len(vetorList):\n",
        "    print(vetorList[i])\n",
        "    i = i + 1\n",
        "\n",
        "\n",
        "\n",
        "\n"
      ]
    },
    {
      "cell_type": "code",
      "execution_count": null,
      "metadata": {
        "id": "RScO5MVs9fh_"
      },
      "outputs": [],
      "source": [
        "\n",
        "#Faça um Programa que leia uma lista de 5 números reais e \n",
        "# mostre-os na ordem inversa.\n",
        "\n",
        "listaNumerosReais = []\n",
        "print('Informe os 5 numeros reais')\n",
        "for i in range(5):\n",
        " listaNumerosReais.append(float(input('Numero '+ str(i+1) + ':\\n')))\n",
        " listaNumerosReais.reverse()\n",
        "print(listaNumerosReais) \n",
        "\n",
        "\n"
      ]
    },
    {
      "cell_type": "code",
      "execution_count": null,
      "metadata": {
        "id": "WdPRx53CxetK"
      },
      "outputs": [],
      "source": [
        "# Baseado no programa anterior\n",
        "# crie um vetor de 5 elementos do tipo int. \n",
        "\n",
        "valores = [1,2,3,4,5]\n",
        "print(valores)\n",
        "\n"
      ]
    },
    {
      "cell_type": "code",
      "execution_count": null,
      "metadata": {
        "id": "RDDCwQsV_f6T"
      },
      "outputs": [],
      "source": [
        "#utilizando modulos \n",
        "import math\n",
        "num = int(input( 'Digite um Número:'))\n",
        "raiz = math.sqrt(num)\n",
        "print('A raiz de {} é igual a {:.2f}'.format(num, raiz ))\n"
      ]
    },
    {
      "cell_type": "code",
      "execution_count": null,
      "metadata": {
        "id": "gtYdSI5MBmSO"
      },
      "outputs": [],
      "source": [
        "from math import sqrt\n",
        "#utilizando modulos \n",
        "num = int(input( 'Digite um Número:'))\n",
        "raiz = sqrt(num)\n",
        "print('A raiz de {} é igual a {:.2f}'.format(num, raiz ))"
      ]
    },
    {
      "cell_type": "code",
      "execution_count": null,
      "metadata": {
        "id": "MOwyxHcnEgnK"
      },
      "outputs": [],
      "source": [
        "\n",
        "# Percorrendo uma lista de números.\n",
        "print(\"Números em uma lista: \")\n",
        "for numero in [1, 1, 2, 3, 5, 8, 13]:\n",
        "    print(numero)"
      ]
    },
    {
      "cell_type": "code",
      "execution_count": null,
      "metadata": {
        "id": "mbNlQgMDEqnH"
      },
      "outputs": [],
      "source": [
        "# Percorrendo uma lista de palavras.\n",
        "print(\"Palavras em uma lista:\")\n",
        "for palavra in ['IFMG', 'Campus','Ibirité']:\n",
        "    print(palavra)  "
      ]
    },
    {
      "cell_type": "code",
      "execution_count": null,
      "metadata": {
        "id": "x14iO2UIFEN9"
      },
      "outputs": [],
      "source": [
        "# Percorrendo um intervalo. \n",
        "# Por padrão, intervalos começam em zero.\n",
        "for i in range(34):\n",
        "    print(i)"
      ]
    },
    {
      "cell_type": "code",
      "execution_count": null,
      "metadata": {
        "id": "RnOnuiwYFR17"
      },
      "outputs": [],
      "source": [
        "for indice, elemento in enumerate(range(-9,9)):\n",
        "    print(indice, elemento)\n",
        "\n",
        "\n",
        "    "
      ]
    },
    {
      "cell_type": "code",
      "execution_count": null,
      "metadata": {
        "colab": {
          "base_uri": "https://localhost:8080/"
        },
        "id": "Em3jPuuLFecC",
        "outputId": "e7c18a9a-f197-4b15-e2af-c6ab53c2bf0f"
      },
      "outputs": [
        {
          "name": "stdout",
          "output_type": "stream",
          "text": [
            "Elemento está na lista!\n"
          ]
        }
      ],
      "source": [
        "#Um exemplo interessante de uso de laços for é a busca\n",
        "# por um elemento em uma lista:\n",
        "elemento = 10\n",
        "esta_presente = False\n",
        "lista = [1, 2, 7, 10, 15, 20, 50]\n",
        "for item in lista:\n",
        "  if item == elemento:\n",
        "    esta_presente = True\n",
        "\n",
        "if esta_presente:\n",
        "  print(\"Elemento está na lista!\")\n",
        "else:\n",
        "  print(\"Elemento não está na lista!\")\n"
      ]
    },
    {
      "cell_type": "code",
      "execution_count": null,
      "metadata": {
        "id": "Bi7URFSwF6bd"
      },
      "outputs": [],
      "source": [
        "#Uma outra forma de pesquisar por um elemento em uma lista em \n",
        "# Python é por meio do recurso in:\n",
        "elemento = 10\n",
        "lista = [1, 2, 7, 10, 15]\n",
        "if elemento in lista:\n",
        "  print(\"Está na lista!\")\n",
        "else:\n",
        "  print(\"Não está na lista!\")"
      ]
    },
    {
      "cell_type": "code",
      "execution_count": null,
      "metadata": {
        "id": "3enCcEmyGGHz"
      },
      "outputs": [],
      "source": [
        "\n",
        "#Além dos laços for, Python conta também com os laços while, \n",
        "# que executam enquanto uma dada condição for verdadeira:\n",
        "i = 1\n",
        "while i < 5:\n",
        "    print(i)\n",
        "    i = i + 1\n"
      ]
    },
    {
      "cell_type": "code",
      "execution_count": null,
      "metadata": {
        "id": "TjYakQvZGSjf"
      },
      "outputs": [],
      "source": [
        "\n",
        "#Um exemplo útil de uso de laços while é o cálculo do\n",
        "# fatorial de um número:\n",
        "n = 6\n",
        "fatorial = 1\n",
        "while n > 1:\n",
        "  fatorial *= n \n",
        "  n -= 1 \n",
        "print(fatorial)\n"
      ]
    },
    {
      "cell_type": "code",
      "execution_count": null,
      "metadata": {
        "id": "sEyA7SKEqcP1"
      },
      "outputs": [],
      "source": [
        "# Escreva um programa que pergunte a quantidade de km percorridos por um \n",
        "# carro alugado. Calcule o preço a pagar. Sabendo que o carro custa \n",
        "# R$ 60 por dia e R$ 0.15 por km rodado. \n",
        "\n",
        "dias = int(input('Quantos dias alugado?'))\n",
        "km = float(input('Quantos km rodados?'))\n",
        "pago = (dias * 60) + ( km * 0.15)\n",
        "print( ' O total a pagar é de: R${:.2f}'.format(pago) )\n",
        "\n",
        "\n",
        "\n",
        "\n"
      ]
    },
    {
      "cell_type": "code",
      "execution_count": null,
      "metadata": {
        "id": "U6es2nkCgQ9d",
        "colab": {
          "base_uri": "https://localhost:8080/"
        },
        "outputId": "1e6c2c96-592d-4388-eb5f-8828f1e24e65"
      },
      "outputs": [
        {
          "output_type": "stream",
          "name": "stdout",
          "text": [
            "__________________________\n",
            "Sistemas de Alunos IFMG\n",
            "__________________________\n",
            "Cadastro de alunos\n",
            "__________________________\n",
            "__________________________\n",
            "Erro no sistema\n",
            "__________________________\n"
          ]
        }
      ],
      "source": [
        "def lin():\n",
        "  print('__________________________')\n",
        "lin()\n",
        "print('Sistemas de Alunos IFMG')\n",
        "lin()\n",
        "print('Cadastro de alunos')\n",
        "lin()\n",
        "lin()\n",
        "print('Erro no sistema')\n",
        "lin()"
      ]
    },
    {
      "cell_type": "code",
      "execution_count": null,
      "metadata": {
        "id": "hy1izz7W4eO6"
      },
      "outputs": [],
      "source": [
        "def f(x):\n",
        "  return x ** 2\n",
        "f(3)"
      ]
    },
    {
      "cell_type": "code",
      "execution_count": null,
      "metadata": {
        "id": "Mr-ZmzFB4tof"
      },
      "outputs": [],
      "source": [
        "def power (x, y):\n",
        "    return x ** y\n",
        "power( 3 , 2 ), power(y=2 , x=3)\n"
      ]
    },
    {
      "cell_type": "code",
      "execution_count": null,
      "metadata": {
        "colab": {
          "base_uri": "https://localhost:8080/"
        },
        "id": "4a3T7zrNsoyZ",
        "outputId": "aa138760-95f4-492e-955e-390798797905"
      },
      "outputs": [
        {
          "name": "stdout",
          "output_type": "stream",
          "text": [
            "nome:\tjoao \n",
            "idade:\tnão\tinformada\n"
          ]
        }
      ],
      "source": [
        "\n",
        "def\tdados(nome,\tidade = None):\n",
        "\tprint('nome:\t{}'.format(nome))\n",
        "\tif(idade\tis not None):\n",
        "\t\tprint('idade:\t{}'.format(idade))\n",
        "\telse:\n",
        "\t\tprint('idade:\tnão\tinformada')\n",
        "dados('joao ')\t\n",
        "\n",
        "\t\t"
      ]
    },
    {
      "cell_type": "code",
      "execution_count": null,
      "metadata": {
        "id": "LdbHgihroCa9"
      },
      "outputs": [],
      "source": [
        "# Desenvolva um programa que leia duas notas de um aluno \n",
        "# calcule e mostre sua media. \n",
        "\n",
        "nota1 = float(input('Digite a primeira nota:'))\n",
        "nota2 = float(input('Digite a segunda nota:'))\n",
        "media = (nota1 + nota2)/2\n",
        "\n",
        "print('A média entre {:.1f} e {:.1f} é igual a: {:.1f}'.format(nota1, nota2, media))\n",
        "\n"
      ]
    },
    {
      "cell_type": "code",
      "execution_count": null,
      "metadata": {
        "id": "WfmVQpx3gdns"
      },
      "outputs": [],
      "source": [
        "# Crie um algoritimo que leia um numero e mostre seu\n",
        "# dobro triplo e raiz quadrada.\n",
        "\n",
        "numero = float(input('Digite um número:'))\n",
        "dobro = numero * 2\n",
        "triplo = numero * 3\n",
        "raiz = numero ** (1/2)\n",
        "print(' O dobro de: {} vale:{}'.format(numero, dobro))\n",
        "print('O triplo vale: {} e a Raiz quadrada vale:{}'.format(triplo, raiz))\n",
        "\n"
      ]
    },
    {
      "cell_type": "code",
      "execution_count": null,
      "metadata": {
        "id": "GR7xAm0zlYFb"
      },
      "outputs": [],
      "source": [
        "numero = float(input('Digite um número:'))\n",
        " \n",
        "print(' O dobro de: {} vale:{}'.format(numero , dobro * 2))\n",
        "print('O triplo: {} \\n e a Raiz:{:.2f}'.format(triplo *3, pow(numero, (1/2))))\n",
        "\n",
        "\n",
        "\n"
      ]
    },
    {
      "cell_type": "code",
      "execution_count": null,
      "metadata": {
        "id": "nbwhXhZKuwGA"
      },
      "outputs": [],
      "source": [
        "\n",
        "\n",
        "\n",
        "n1=float(input('digite a nota do seu primeiro periodo:'))\n",
        "n2=float(input('agora a nota do segundo periodo:'))\n",
        "n3=float(input('seu terceiro periodo:'))\n",
        "n4=float(input('e seu quarto periodo:'))\n",
        "media=(n1+n2+n3+n4)/4\n",
        "print('a media das suas notas foi',media)\n",
        "if media >= 6:\n",
        " print('Aprovado') \n",
        "else:\n",
        " print('Reprovado')\n",
        "\n",
        "\n",
        "\n"
      ]
    },
    {
      "cell_type": "code",
      "execution_count": null,
      "metadata": {
        "id": "SrXNAv3EwjXO"
      },
      "outputs": [],
      "source": [
        "n1=float(input('digite a nota do seu primeiro periodo:'))\n",
        "n2=float(input('agora a nota do segundo periodo:'))\n",
        "n3=float(input('seu terceiro periodo:'))\n",
        "n4=float(input('e seu quarto periodo:'))\n",
        "\n",
        "print(' A media das notas é {}'.format(media=(n1+n2+n3+n4)/4))\n"
      ]
    },
    {
      "cell_type": "code",
      "execution_count": null,
      "metadata": {
        "id": "VXMNW3DRdmK6"
      },
      "outputs": [],
      "source": [
        "n1 = int(input('Digite um valor:'))\n",
        "n2 = int(input('Digite outro valor'))\n",
        "soma = (n1 + n2) \n",
        "print('a soma dos dois números é', soma)\n"
      ]
    },
    {
      "cell_type": "code",
      "execution_count": null,
      "metadata": {
        "id": "4Xg2UNXohARa"
      },
      "outputs": [],
      "source": [
        "n1 = int (input('Digite um valor:'))\n",
        "n2 = int (input('Digite outro valor'))\n",
        "soma = n1 + n2 \n",
        " \n",
        "print('A soma entre {} e {} vale {} '.format(n1,n2,soma))\n",
        "\n",
        "\n",
        "\n",
        "\n"
      ]
    },
    {
      "cell_type": "code",
      "execution_count": null,
      "metadata": {
        "id": "6rUJ17rykXYM"
      },
      "outputs": [],
      "source": [
        "# Faça um programa que mostre uma mensagem de boas vindas na tela.\n",
        "\n",
        "nome=(input(\"Digite seu nome: \"))\n",
        "\n",
        "print(\"Bem vindo ao campus IFMG - Ibirité!!\", nome)\n",
        "\n",
        "\n"
      ]
    },
    {
      "cell_type": "code",
      "execution_count": null,
      "metadata": {
        "id": "QDSMym7ZlaM-"
      },
      "outputs": [],
      "source": [
        "nome=(input(\"Digite seu nome: \"))\n",
        "\n",
        "print('Bem vindo ao campus IFMG - Ibirité!!{}' .format(nome))\n",
        "\n",
        "\n"
      ]
    },
    {
      "cell_type": "code",
      "execution_count": null,
      "metadata": {
        "id": "SO4ug7CN3MkU"
      },
      "outputs": [],
      "source": [
        "# Faça um programa que solicite o preço de \n",
        "# uma mercadoria e o percentual de desconto\n",
        "# A interpolação é mais eficiente do que a concatenação convencional.\n",
        "preço = float(input(\"Digite o preço da mercadoria:\"))\n",
        "\n",
        "desconto = float(input(\"Digite o percentual de desconto:\"))\n",
        "\n",
        "valor_do_desconto = preço * desconto / 100\n",
        "\n",
        "a_pagar = preço - valor_do_desconto\n",
        "\n",
        "print(\"Um desconto de %5.2f %% em uma mercadoria de R$ %7.2f\" % (desconto, preço))\n",
        "print(\"vale R$ %7.2f.\" % valor_do_desconto)\n",
        "\n",
        "print(\"O valor a pagar é de R$ %7.2f\" % a_pagar)\n"
      ]
    },
    {
      "cell_type": "code",
      "execution_count": null,
      "metadata": {
        "id": "wilUpwRI2FQk"
      },
      "outputs": [],
      "source": [
        "#Escreva um programa que calcule o tempo de uma viagem de carro\n",
        "# Operador “%” é usado para fazer interpolação de strings. \n",
        "\n",
        "distância = float(input(\"Digite a distância em km:\"))\n",
        "velocidade_média = float(input(\"Digite a velocidade média em km/h:\"))\n",
        "tempo = distância / velocidade_média\n",
        "print(\"O tempo estimado é de %5.2f horas\" % tempo)\n",
        "# Opcional: imprimir o tempo em horas, minutos e segundos\n",
        "\n",
        "tempo_s = int(tempo * 3600)  # convertemos de horas para segundos\n",
        "horas = int(tempo_s / 3600)  # parte inteira\n",
        "tempo_s = int(tempo_s % 3600)  # o resto\n",
        "\n",
        "minutos = int(tempo_s / 60)\n",
        "segundos = int(tempo_s % 60)\n",
        "print(\"%05d:%02d:%02d\" % (horas, minutos, segundos))\n",
        "\n"
      ]
    },
    {
      "cell_type": "code",
      "execution_count": null,
      "metadata": {
        "id": "KGigvlpXS7iI"
      },
      "outputs": [],
      "source": [
        "\n",
        "# Escreva um programa que converta os valores em metros e exiba \n",
        "# convertidos em centimetros e milimetros. \n",
        "\n",
        "\n",
        "metros = float(input('Digite o valor em metros:'))\n",
        "print(f'{metros} metros são:\\n {metros * 100:.1f} centímetros | {metros * 1000:.1f}milímetros \\n {metros * 10:.1f} ')\n",
        "\n"
      ]
    },
    {
      "cell_type": "code",
      "execution_count": null,
      "metadata": {
        "id": "3l4f6UxZRVcS"
      },
      "outputs": [],
      "source": [
        "\n",
        "\n",
        "# faça um programa que leia algo pelo teclado e mostre na tela seu \n",
        "# tipo primitivo e todas informações possiveis sobre ele.\n",
        "\n",
        "algo = input('Digite alguma coisa: ')\n",
        "print('O tipo primitivo de {} é'.format(algo), type(algo))\n",
        "print('{} é número?: '.format(algo), algo.isnumeric())\n",
        "print('{} é alfabético? '.format(algo), algo.isalpha())\n",
        "\n",
        "\n"
      ]
    },
    {
      "cell_type": "code",
      "execution_count": null,
      "metadata": {
        "id": "VJxy2UK09Csi"
      },
      "outputs": [],
      "source": []
    },
    {
      "cell_type": "code",
      "execution_count": null,
      "metadata": {
        "id": "WJ665kBGgmIm"
      },
      "outputs": [],
      "source": [
        "n1 = int (input('Digite um valor:'))\n",
        "n2 = int (input('Digite outro valor'))\n",
        "s = n1 + n2 \n",
        "print('A soma entre ',n1, 'e', n2, 'é igual a:',s )"
      ]
    },
    {
      "cell_type": "code",
      "execution_count": null,
      "metadata": {
        "id": "ir75aZn7lFKZ"
      },
      "outputs": [],
      "source": [
        "6 + 8 * 2 "
      ]
    },
    {
      "cell_type": "code",
      "execution_count": null,
      "metadata": {
        "id": "jCCCGusoliAS"
      },
      "outputs": [],
      "source": [
        "# primeiro elevado depois multiplicação ultimo a soma\n",
        "3 * 7 + 2 ** 2"
      ]
    },
    {
      "cell_type": "code",
      "execution_count": null,
      "metadata": {
        "id": "y3B6H7_KloZ-"
      },
      "outputs": [],
      "source": [
        "# primeiro o parentese\n",
        "3 * (7 + 2) ** 2"
      ]
    },
    {
      "cell_type": "code",
      "execution_count": null,
      "metadata": {
        "id": "EPCR-eC5nmL3"
      },
      "outputs": [],
      "source": [
        "585858**976 # numeros grandes "
      ]
    },
    {
      "cell_type": "code",
      "execution_count": null,
      "metadata": {
        "id": "6gfT61tan_YQ"
      },
      "outputs": [],
      "source": [
        "5 + 6 * 2 # primeiro a multiplicação depois a soma"
      ]
    },
    {
      "cell_type": "code",
      "execution_count": null,
      "metadata": {
        "id": "dsGEsKGjoQlA"
      },
      "outputs": [],
      "source": [
        "21 / 2  # Divisão"
      ]
    },
    {
      "cell_type": "code",
      "execution_count": null,
      "metadata": {
        "id": "QQtjTsmNoYae"
      },
      "outputs": [],
      "source": [
        "21 // 2 # divisão inteira "
      ]
    },
    {
      "cell_type": "code",
      "execution_count": null,
      "metadata": {
        "id": "2n2WYhzlpRZO"
      },
      "outputs": [],
      "source": [
        "7 ** 7 # potenciação"
      ]
    },
    {
      "cell_type": "code",
      "execution_count": null,
      "metadata": {
        "id": "R0e8Dt0opzV8"
      },
      "outputs": [],
      "source": [
        "pow(7,7) # potenciação"
      ]
    },
    {
      "cell_type": "code",
      "execution_count": null,
      "metadata": {
        "id": "yE_xbLKUpgCE"
      },
      "outputs": [],
      "source": [
        "25 % 2 # resto "
      ]
    },
    {
      "cell_type": "code",
      "execution_count": null,
      "metadata": {
        "id": "PvK1TKgAp-8G"
      },
      "outputs": [],
      "source": [
        "81** (1/2) # raiz quadrada de 81"
      ]
    },
    {
      "cell_type": "code",
      "execution_count": null,
      "metadata": {
        "id": "p9fMPqwApxhw"
      },
      "outputs": [],
      "source": [
        "25**(1/2) # raiz quadrada de 25"
      ]
    },
    {
      "cell_type": "code",
      "execution_count": null,
      "metadata": {
        "id": "ZzBM31rSqcW8"
      },
      "outputs": [],
      "source": [
        "127**(1/3) # raiz cubica"
      ]
    },
    {
      "cell_type": "code",
      "execution_count": null,
      "metadata": {
        "id": "23VcMWgJPE1W"
      },
      "outputs": [],
      "source": [
        "4*4 # multiplicação \n",
        "\n",
        "\n"
      ]
    },
    {
      "cell_type": "code",
      "execution_count": null,
      "metadata": {
        "id": "AWjseEQqqzrD"
      },
      "outputs": [],
      "source": [
        "'oi' + 'ola'"
      ]
    },
    {
      "cell_type": "code",
      "execution_count": null,
      "metadata": {
        "id": "tDR0dxTTrPge"
      },
      "outputs": [],
      "source": [
        "nome = input('Qual seu nome')\n",
        "print('Prazer em te conhecer{:20}!!'.format(nome))"
      ]
    },
    {
      "cell_type": "code",
      "execution_count": null,
      "metadata": {
        "id": "zpR4TL72sTLx"
      },
      "outputs": [],
      "source": [
        "nome = input('Qual seu nome')\n",
        "print('Prazer em te conhecer{:>20}!!'.format(nome))"
      ]
    },
    {
      "cell_type": "code",
      "execution_count": null,
      "metadata": {
        "id": "zfyX_fa1sal3"
      },
      "outputs": [],
      "source": [
        "nome = input('Qual seu nome')\n",
        "print('Prazer em te conhecer{:<20}!!'.format(nome))"
      ]
    },
    {
      "cell_type": "code",
      "execution_count": null,
      "metadata": {
        "id": "DpqczbuUsjsP"
      },
      "outputs": [],
      "source": [
        "nome = input('Qual seu nome')\n",
        "print('Prazer em te conhecer{:=^20}!!'.format(nome))"
      ]
    },
    {
      "cell_type": "code",
      "execution_count": null,
      "metadata": {
        "id": "-vKkK4uWtRcX"
      },
      "outputs": [],
      "source": [
        "\n",
        "\n",
        "\n",
        "n1 = int(input('um valor:'))\n",
        "n2 = int(input('outro valor '))\n",
        "s = n1 + n2   # soma\n",
        "m = n1 * n2   # Multiplicação\n",
        "d = n1 / n2   # Divisão \n",
        "di = n1 // n2 # Divisão inteira\n",
        "e = n1 ** n2  # potência                       #.3f tres casas flutuantes\n",
        "print('A soma é {},o produto é {},e a divisão é {:.3f} '.format(s, m, d), end=' ')\n",
        "print('Divisão inteira {} e potência{}'.format(di, e))\n",
        "\n"
      ]
    },
    {
      "cell_type": "code",
      "execution_count": null,
      "metadata": {
        "id": "Yg8nby1zyOfJ"
      },
      "outputs": [],
      "source": [
        "# Faça um programa que leia um número inteiro e mostre \n",
        "# seu sucessor e o antecessor. \n",
        "n = int(input('Digite um número:'))\n",
        "a = n - 1 \n",
        "s = n + 1\n",
        "print('Analisando o valor {}, seu antecessor é {}, sucessor é{}' .format(n, a, s))"
      ]
    },
    {
      "cell_type": "code",
      "execution_count": null,
      "metadata": {
        "id": "H9GobamG1ZRA"
      },
      "outputs": [],
      "source": [
        "n = int(input('Digite um número:')\n",
        "print('Analisando o valor {}, seu antecessor é {}, e o sucessor é{}'.format(n, (n-1), (n+1)))"
      ]
    },
    {
      "cell_type": "code",
      "execution_count": null,
      "metadata": {
        "id": "3oiYRW5X2891"
      },
      "outputs": [],
      "source": [
        "# Crie um algoritimo que leia um número e mostre \n",
        "# o seu dobro, triplo, e raiz quadrada. \n",
        "n = int (input('Digite um número:'))\n",
        "dobro = n * 2\n",
        "triplo = n * 3\n",
        "raiz = n **(1/2)\n",
        "print('O dobro de {}. vale {}'.format(n, dobro))\n",
        "print('O triplo de {}. vale {}. A raiz quadrada de {} é igual a {:2f}'.format(n, triplo,n , raiz))\n"
      ]
    },
    {
      "cell_type": "code",
      "execution_count": null,
      "metadata": {
        "id": "wyFVrgEj6VeR"
      },
      "outputs": [],
      "source": [
        "# Crie um algoritimo que leia um número e mostre \n",
        "# o seu dobro, triplo, e raiz quadrada. \n",
        "\n",
        "n = int (input('Digite um número:'))\n",
        "print('O dobro de {}. vale \\n {}'.format(n,(n*2)))\n",
        "print('O triplo de {}. vale {}. A raiz quadrada de{} é igual a {:2f}'.format(n, (n*3), n, (n**(1/2))))\n"
      ]
    },
    {
      "cell_type": "code",
      "execution_count": null,
      "metadata": {
        "colab": {
          "background_save": true
        },
        "id": "zYJNhliJYb14"
      },
      "outputs": [],
      "source": [
        "#Faça um programa que peça uma nota, entre zero e dez. Mostre uma\n",
        "# mensagem  caso o valor seja inválido e continue pedindo até que \n",
        "#o usuário informe um valor válido.\n",
        "\n",
        "nota = float(input(\"Digite uma nota entre zero e 10: \"))\n",
        "\n",
        "while nota > 0 or nota < 10:\n",
        "    nota = float(input(\"Informe um valor válido: \"))\n",
        "    print('A nova Valida é', nota)\n",
        "\n",
        "  "
      ]
    },
    {
      "cell_type": "code",
      "execution_count": null,
      "metadata": {
        "id": "MRgjA_Ya7228"
      },
      "outputs": [],
      "source": [
        "\n",
        "\n",
        "\n",
        "\n",
        "\n",
        "# Aula 03/08/2022\n",
        "#Crie um programa que receba seu (nome idade e peso) e exiba na tela.\n",
        "\n",
        "nome = input('Qual seu nome?')\n",
        "idade = input(' Qual sua idade')\n",
        "peso = float( input('Qual seu peso '))\n",
        "print( 'seu nome é:', nome, ' Sua idade', idade, ' Seu peso:', peso)\n"
      ]
    },
    {
      "cell_type": "code",
      "execution_count": null,
      "metadata": {
        "id": "8eXje-gvclfP"
      },
      "outputs": [],
      "source": [
        "\n",
        "# Crie um script python que leia o nome de uma pessoa, \n",
        "# e mostre uma  mensagem de boas vindas.\n",
        "nome = input(' Qual seu nome?')\n",
        "print('Seja Bem vindo', nome)\n",
        "\n"
      ]
    },
    {
      "cell_type": "code",
      "execution_count": null,
      "metadata": {
        "id": "do49LyLXeofk"
      },
      "outputs": [],
      "source": [
        "\n",
        "# Crie um script python que leia o dia mes e ano de nascimento \n",
        "# de uma pessoa e mostre a mensagem com a data formatada. \n",
        "\n",
        "dia = input('Qual  dia do seu nascimento ?')\n",
        "mes = input('Qual mes vc nasceu?')\n",
        "ano = input('Qual ano vc nasceu?')\n",
        "print('Voce nasceu no ',dia, 'Do mes',mes,'ano ' ,ano,'-----', dia, mes, ano ) \n",
        "\n",
        "\n",
        "\n"
      ]
    },
    {
      "cell_type": "code",
      "execution_count": null,
      "metadata": {
        "id": "x7Mp3aGscZZm"
      },
      "outputs": [],
      "source": [
        "\n",
        "#Faça um algoritmo que pergunte ao usuário quantos anos ele tem,\n",
        "# depois disso, escreva True no console, caso ele já tenha \n",
        "#alcançado a maioridade (18 anos), caso contrário escreva False.\n",
        "idade = int( input(\"Quantos anos você tem? \") )\n",
        "maioridade = idade >= 18\n",
        "maioridade"
      ]
    },
    {
      "cell_type": "code",
      "execution_count": null,
      "metadata": {
        "id": "cEZNZwW7dOLD"
      },
      "outputs": [],
      "source": [
        "\n",
        "#Faça um algoritmo que solicite um número ao usuário, depois disso, \n",
        "#escreva True no console, caso o número tenha dois dígitos \n",
        "#(Esteja entre 10 e 99), caso contrário escreva False.\n",
        "numero = int( input(\"Digite um numero: \") )\n",
        "dois_digitos = numero >= 10 and numero <= 99\n",
        "print(dois_digitos)\n",
        "\n",
        "\n",
        "\n",
        "\n",
        "\n"
      ]
    },
    {
      "cell_type": "code",
      "execution_count": null,
      "metadata": {
        "id": "as8lifYWf7PF"
      },
      "outputs": [],
      "source": [
        "# Fazer um algoritmo que ao receber o salário atual de um funcionário, \n",
        "#calcule o valor do novo salário reajustado de acordo com a tabela abaixo:\n",
        "# Salário atual\tReajuste\n",
        "# Abaixo de R$500,00\t15%\n",
        "# de R$500,00 até R$1000,00\t10%\n",
        "# Acima de R$1000,00\t5%\n",
        "\n",
        "print('\\t ----Cálculo do novo salário ---- ')\n",
        "salario_atual = float(input('Informe o salario atual: '))\n",
        "if (salario_atual < 500):\n",
        "    salario_novo=salario_atual + (salario_atual * 0.15)\n",
        "    print('Salario com reajuste' '=', salario_novo)\n",
        "\n",
        "if ((salario_atual >= 500) and (salario_atual <= 1000)):\n",
        "    salario_novo=salario_atual + (salario_atual * 0.10)\n",
        "    print('Salario com reajuste' '=', salario_novo)\n",
        "\n",
        "if (salario_atual > 1000):\n",
        "    salario_novo=salario_atual + (salario_atual * 0.05)\n",
        "    print('Salario com reajuste' '=', salario_novo)\n",
        "\n"
      ]
    },
    {
      "cell_type": "code",
      "execution_count": null,
      "metadata": {
        "colab": {
          "base_uri": "https://localhost:8080/"
        },
        "id": "Pxve11xdVzVp",
        "outputId": "781b2f90-0a01-4f59-cf35-7b6b08c88ca5"
      },
      "outputs": [
        {
          "name": "stdout",
          "output_type": "stream",
          "text": [
            "informe o salario atual5000\n"
          ]
        }
      ],
      "source": [
        "\n",
        "# calculo do novo salario \n",
        "# Programa que calcula o valor do salario e conceda um aumento de 15 %.\n",
        "# para quem recebe abaixo de 1.500\n",
        "\n",
        "salario_atual = float(input('informe o salario atual'))\n",
        "\n",
        "if (salario_atual <= 1500):\n",
        "\n",
        "  salario_novo = salario_atual +( salario_atual * 0.15)\n",
        "\n",
        "  print('salario com reajuste''=' , salario_novo)\n",
        "  \n",
        " "
      ]
    },
    {
      "cell_type": "code",
      "execution_count": null,
      "metadata": {
        "id": "6rE-30BgyYhb"
      },
      "outputs": [],
      "source": [
        "# Aula 01/08/2022 \n",
        "\n",
        "# Faça um Programa que peça dois números inteiros e imprima a soma.\n",
        "\n",
        "a = int(input(\"Digite o primeiro número:\"))\n",
        "b = int(input(\"Digite o segundo número:\"))\n",
        "print('A soma dos números é', a + b)\n",
        "\n",
        "\n",
        "\n",
        "\n"
      ]
    },
    {
      "cell_type": "code",
      "execution_count": null,
      "metadata": {
        "id": "3WrS7uOIyiKR"
      },
      "outputs": [],
      "source": [
        "# Faça um Programa que peça as 4 notas bimestrais e mostre a média.\n",
        "\n",
        "num1 = float(input('Notas do 1º bimestre:'))\n",
        "num2 = float(input('Notas do 2º bimestre:'))\n",
        "num3 = float(input('Notas do 3º bimestre:'))\n",
        "num4 = float(input('Notas do 4º bimestre:'))\n",
        "\n",
        "print('A sua média foi:', (num1+num2+num3+num4)/4)\n",
        "\n",
        "\n",
        "\n",
        "\n"
      ]
    },
    {
      "cell_type": "code",
      "execution_count": null,
      "metadata": {
        "id": "rJwaXtwYzB50"
      },
      "outputs": [],
      "source": [
        "# Faça um Programa que converta metros para centímetros.\n",
        "\n",
        "\n",
        "print('\\t ----Conversão de medida---- ')\n",
        "metros = float(input('Informe o valor em metros: '))\n",
        "print ('O valor em centimetros é :', metros * 100)\n",
        "\n",
        "# print() é uma função que permite exibir mensagens na tela.\n",
        "#input é uma função que permite obter dados de um usuário.\n",
        "\n",
        "\n",
        "\n"
      ]
    },
    {
      "cell_type": "code",
      "execution_count": null,
      "metadata": {
        "id": "LWlUS4jXzTD9"
      },
      "outputs": [],
      "source": [
        "# Faça um Programa que peça dois números e imprima o maior deles.\n",
        "\n",
        "num1 = float(input('Digite o primeiro número:'))\n",
        "num2 = float(input('Digite o segundo número:'))\n",
        "\n",
        "if num1 > num2:\n",
        "    print('Esse é o maior número:',num1)\n",
        "else:\n",
        "    print('Esse é o maior número:',num2)\n"
      ]
    },
    {
      "cell_type": "code",
      "execution_count": null,
      "metadata": {
        "id": "J3HdmWwuzYW-"
      },
      "outputs": [],
      "source": [
        "# Faça um Programa que peça um valor e mostre na \n",
        "# tela se o valor é positivo ou negativo.\n",
        "\n",
        "n = int(input(\"Digite o número:\"))\n",
        "\n",
        "if(n < 0):\n",
        "\n",
        " print(\"O valor digitado é negativo!\")\n",
        "\n",
        "else:\n",
        "\n",
        " print(\"O valor digitado é positivo!\")\n"
      ]
    },
    {
      "cell_type": "code",
      "execution_count": null,
      "metadata": {
        "id": "WHl8car_aiwY"
      },
      "outputs": [],
      "source": [
        "# Faça um algoritmo em linguagem Python que receba duas notas e calcule a\n",
        "# média aritmética e mostre o resultado.\n",
        "\n",
        "num1 = float(input('Digite o primeira nota:'))\n",
        "num2 = float(input('Digite o segunda  nota:'))\n",
        "print('A sua média foi:', (num1+num2)/2)\n",
        "\n"
      ]
    },
    {
      "cell_type": "code",
      "execution_count": null,
      "metadata": {
        "id": "_f1gH0FAfiQU"
      },
      "outputs": [],
      "source": [
        "# 09) programa Variável recebe dois números e soma e mostre\n",
        " # na tela a soma e a divisão.\n",
        "num1 = 40\n",
        "num2 = 10\n",
        "print('A soma das variaveis é :', num1+num2 )\n",
        "print('A divisão das variaveis é :', num1/num2 )\n"
      ]
    },
    {
      "cell_type": "code",
      "execution_count": null,
      "metadata": {
        "id": "jJtgl3qthP6L"
      },
      "outputs": [],
      "source": [
        "# 10) Faça um programa que receba duas variáveis e \n",
        "# mostre o resultado da multiplicação das variáveis.\n",
        "b = 40\n",
        "a = 6\n",
        "print('A multiplicação das variaveis é :', a * b )\n"
      ]
    },
    {
      "cell_type": "code",
      "execution_count": null,
      "metadata": {
        "id": "s4M58ubB0lwJ"
      },
      "outputs": [],
      "source": [
        "\n",
        "# Escreva um programa que calcule a soma\n",
        "# de três variáveis e imprima o resultado na tela\n",
        "\n",
        "a = 2\n",
        "b = 365\n",
        "c = 4\n",
        "print('A soma das variavéis é:', a + b + c)\n"
      ]
    },
    {
      "cell_type": "code",
      "execution_count": null,
      "metadata": {
        "id": "DFIGm6Nye8vQ"
      },
      "outputs": [],
      "source": [
        " \n",
        " #Faça um programa em Python que leia um valor inteiro e\n",
        " # mostre a tabuada de 1 a 10 do valor lido.\n",
        "\n",
        "print('\\t ----Tabuada---- ')\n",
        "numero = int(input('Informe o numero para ver a tabuada: '))\n",
        "\n",
        "print('\\n Tabuada de', numero, ':')\n",
        "\n",
        "for i in range(1, 11):\n",
        "    print(numero, 'X', i, '=', (numero * i))\n",
        "\n",
        "\n"
      ]
    },
    {
      "cell_type": "code",
      "execution_count": null,
      "metadata": {
        "id": "kngh5tUNfeCR"
      },
      "outputs": [],
      "source": [
        "# Faça um algoritmo em linguagem Python que receba duas notas e calcule a \n",
        "# média aritmética e mostre o resultado.\n",
        "\n",
        "print('\\t ----Cálculo da média aritmética---- ')\n",
        "\n",
        "nota1 = int(input('Informe a primeira nota: '))\n",
        "nota2 = int(input('Informe a segunda nota: '))\n",
        "\n",
        "media = (nota1+ nota2)/2\n",
        "\n",
        "print('Média Aritmética' '=', media)\n",
        "\n",
        "\n"
      ]
    },
    {
      "cell_type": "code",
      "execution_count": null,
      "metadata": {
        "id": "QOKaMDlVgx-b"
      },
      "outputs": [],
      "source": [
        " # Faça um programa que recebendo um valor inteiro,\n",
        " # informe se o número é positivo, negativo ou neutro.\n",
        "\n",
        "print('\\t ---- A dança dos números---- ')\n",
        "x = int(input(\"Informe um número : \"))\n",
        "if x < 0:\n",
        "        print('É um número negativo ')\n",
        "elif x == 0:\n",
        "        print('É um número neutro')\n",
        "elif x > 0:\n",
        "        print('É um número positivo')\n",
        "\n",
        "        "
      ]
    },
    {
      "cell_type": "code",
      "execution_count": null,
      "metadata": {
        "id": "znyrv2d8inEH"
      },
      "outputs": [],
      "source": [
        "# Para realizar a tomada de decisão na Linguagem de Programação Python,\n",
        "# usamos a instrução if, junto(ou não) com elif ou  else. O que é o comando if?\n",
        "# O if é um comando condicional,ou seja, que serve para executar tarefas com\n",
        "# base em condições.\n",
        "# Atenção: ao implementar o comando if em algum problema, podemos ter zero ou \n",
        "# mais partes elif, e a parte else é opcional. Durante os estudos, muitos alunos \n",
        "# perguntam o significado de ‘elif’. Pois bem, a palavra-reservada ‘elif’ é uma\n",
        "# abreviação para ‘else if’, e é útil para evitar indentação excessiva. Uma \n",
        "# sequência if … elif … elif … substitui os comandos switch ou case, encontrados \n",
        "# em outras linguagens.\n",
        "\n",
        "# if , if-else, if-elif-else\n",
        "\n",
        "# O if é uma estrutura de condição que permite avaliar uma expressão e, de acordo \n",
        "# com seu resultado, executar uma determinada ação.\n",
        "# if-else: Utilizamos quando é necessário especificar uma alternativa, para o caso \n",
        "# de a condição do comando if não ser satisfeita. É como se você estivesse dizendo: \n",
        "# se isso acontecer, faça isso, senão...faça aquilo.\n",
        "# if-elif-else: Utilizamos quando, por algum acaso, existir mais de uma condição \n",
        "# alternativa que precisa ser verificada.\n"
      ]
    },
    {
      "cell_type": "code",
      "execution_count": null,
      "metadata": {
        "id": "Z18JZxp505qY"
      },
      "outputs": [],
      "source": [
        "#Escreva um programa para calcular a \n",
        "# redução do tempo de vida de um fumante\n",
        "\n",
        "cigarros_por_dia = int(input(\"Quantidade de cigarros por dia:\"))\n",
        "\n",
        "anos_fumando = float(input(\"Quantidade de anos fumando:\"))\n",
        "\n",
        "redução_em_minutos = anos_fumando * 365 * cigarros_por_dia * 10\n",
        "\n",
        "# Um dia tem 24 x 60 minutos\n",
        "\n",
        "redução_em_dias = redução_em_minutos / (24 * 60)\n",
        "print(\"Redução do tempo de vida %8.2f dias.\" % redução_em_dias)\n",
        "\n",
        "\n"
      ]
    },
    {
      "cell_type": "code",
      "execution_count": null,
      "metadata": {
        "id": "DDl20DkJ4Cvu"
      },
      "outputs": [],
      "source": [
        "# Escreva um programa que pergunte a quantidade\n",
        "#  de km percorridos por um carro alugado pelo usuário\n",
        "km = int(input(\"Digite a quantidade de quilometros percorridos:\"))\n",
        "dias = int(input(\"Digite quantos dias você ficou com o carro:\"))\n",
        "preço_por_dia = 60\n",
        "preço_por_km = 0.15\n",
        "preço_a_pagar = km * preço_por_km + dias * preço_por_dia\n",
        "print(\"Total a pagar: R$ %7.2f\" % preço_a_pagar)"
      ]
    },
    {
      "cell_type": "code",
      "execution_count": null,
      "metadata": {
        "id": "Sgmjl9dY5FQw"
      },
      "outputs": [],
      "source": [
        "# Escreva um programa para aprovar o empréstimo bancário para compra de uma casa\n",
        "valor = float(input(\"Digite o valor da casa: \"))\n",
        "salário = float(input(\"Digite o salário: \"))\n",
        "anos = int(input(\"Quantos anos para pagar: \"))\n",
        "meses = anos * 12\n",
        "prestacao = valor / meses\n",
        "if prestacao > salário * 0.3:\n",
        "    print(\"Infelizmente você não pode obter o empréstimo\")\n",
        "else:\n",
        "    print(f\"Valor da prestação: R$ {prestacao:7.2f} Empréstimo OK\")"
      ]
    },
    {
      "cell_type": "code",
      "execution_count": null,
      "metadata": {
        "id": "X7sRkilc5rSI"
      },
      "outputs": [],
      "source": [
        "# Escreva um programa que pergunte a velocidade do\n",
        "# carro de um usuário e diga se este foi ou não multado\n",
        "velocidade = float(input(\"Digite a velocidade do seu carro:\"))\n",
        "if velocidade > 80:\n",
        "    multa = (velocidade - 80) * 5\n",
        "    print(f\"Você foi multado em R$ {multa:7.2f}!\")\n",
        "if velocidade <= 80:\n",
        "    print(\"Sua velocidade está ok, boa viagem!\")"
      ]
    },
    {
      "cell_type": "code",
      "execution_count": null,
      "metadata": {
        "id": "D6m71zP_QvUJ"
      },
      "outputs": [],
      "source": [
        "nome = \"IFMG Campus Ibirité \"\n",
        "nome"
      ]
    },
    {
      "cell_type": "code",
      "execution_count": null,
      "metadata": {
        "id": "3wd6Lf9FRDRh"
      },
      "outputs": [],
      "source": [
        "x = 100\n",
        "x"
      ]
    },
    {
      "cell_type": "code",
      "execution_count": null,
      "metadata": {
        "id": "Bc_ab_MPQ5UW"
      },
      "outputs": [],
      "source": [
        "ling = \" Isso é python\"\n",
        "ling"
      ]
    },
    {
      "cell_type": "code",
      "execution_count": null,
      "metadata": {
        "id": "6jAFvP1MEBHE"
      },
      "outputs": [],
      "source": [
        "print ('Bem vindo povo interessado em python!' )"
      ]
    },
    {
      "cell_type": "code",
      "execution_count": null,
      "metadata": {
        "id": "00kIcxE2myOh"
      },
      "outputs": [],
      "source": [
        "print(8+6)\n",
        "print(5*4)\n",
        "print(16/3)\n",
        "print(2**3)"
      ]
    },
    {
      "cell_type": "code",
      "execution_count": null,
      "metadata": {
        "id": "sdjm1kpF12aE"
      },
      "outputs": [],
      "source": [
        "idade = 66\n",
        "idade"
      ]
    },
    {
      "cell_type": "code",
      "execution_count": null,
      "metadata": {
        "id": "myp_Att-qiBZ"
      },
      "outputs": [],
      "source": [
        "\n",
        "# elif cria o meio termo (  Regular ) \n",
        "\n",
        "nota = 5\n",
        "if nota >=7:\n",
        "  print('Ótimo!')\n",
        "elif nota >= 5:\n",
        "    print( 'Regular')\n",
        "else:\n",
        "      print('Abaixo da Média')\n",
        "\n"
      ]
    },
    {
      "cell_type": "code",
      "execution_count": null,
      "metadata": {
        "colab": {
          "base_uri": "https://localhost:8080/"
        },
        "id": "LiX00BnXrlDW",
        "outputId": "b92b08bc-5d26-4d6c-eff3-5149d7aa44b7"
      },
      "outputs": [
        {
          "name": "stdout",
          "output_type": "stream",
          "text": [
            "Aprovado\n"
          ]
        }
      ],
      "source": [
        " # programa que receba a nota  calcule a nota e mostre \n",
        " #se está aprovado, reprovado ou abaixo da média. \n",
        "\n",
        "nota = 60\n",
        "if nota >= 60:\n",
        "  print('Aprovado')\n",
        "elif nota >= 50:\n",
        "  print(\"Reprovado\")\n",
        "else:\n",
        "  print('Abaixo da média')\n",
        "  \n"
      ]
    },
    {
      "cell_type": "code",
      "execution_count": null,
      "metadata": {
        "id": "3ECrbL8E0Slk"
      },
      "outputs": [],
      "source": [
        "nome= 'IFMG '\n",
        "print (nome) \n",
        "\n",
        "\n",
        "\n"
      ]
    },
    {
      "cell_type": "code",
      "execution_count": null,
      "metadata": {
        "colab": {
          "base_uri": "https://localhost:8080/"
        },
        "id": "goa8hHMzsanV",
        "outputId": "e2402b5e-8a9f-4927-a444-29cc2ba81138"
      },
      "outputs": [
        {
          "name": "stdout",
          "output_type": "stream",
          "text": [
            "Digite a categoria do produto:4\n"
          ]
        }
      ],
      "source": [
        "# programa categoria x preço, usando elif \n",
        "categoria = int(input('Digite a categoria do produto:'))\n",
        "if categoria == 1:\n",
        "  preço = 10\n",
        "elif categoria == 2:\n",
        "  preço = 18\n",
        "elif categoria == 3:\n",
        "  preço = 23\n",
        "elif categoria == 4:\n",
        "  preço = 26\n",
        "elif categoria == 5:\n",
        "  preço = 31\n",
        "else:\n",
        "  print('Categoria inválida, digite um valor entre 1 e 5!')\n",
        "  preço = 0\n",
        "  print(f\"O preço do produto é: R${preço:6.2f}\")        "
      ]
    },
    {
      "cell_type": "code",
      "execution_count": null,
      "metadata": {
        "id": "kh4FcDInmicx"
      },
      "outputs": [],
      "source": [
        "# complex, ou números complexos, têm uma parte real e outra imaginaria\n",
        "# denotada com um j. Você pode criar números complexos em python com \n",
        "# complex(). o primeiro argumento será a a parte real e o segundo será\n",
        "# a parte imaginária. \n",
        "complex(4,5)\n",
        "(4+5j)"
      ]
    },
    {
      "cell_type": "code",
      "execution_count": null,
      "metadata": {
        "id": "EKUPsHezjvHF"
      },
      "outputs": [],
      "source": [
        " \n",
        " \n",
        " \n",
        " # programa que converta metros em centimetros e milimetros.\n",
        "\n",
        "\n",
        "metros = float(input('Digite o tamanho'))\n",
        "\n",
        "print('O valor {}m em centimetros é {:.0f}' .format(metros, metros *100))\n",
        "\n",
        "print( 'O valor {}m em milimetros é {:.0f}mm'.format(metros , metros *1000))\n",
        "\n",
        "\n"
      ]
    },
    {
      "cell_type": "code",
      "execution_count": null,
      "metadata": {
        "id": "K8f3KlVn0O7V"
      },
      "outputs": [],
      "source": [
        "\n",
        "\n",
        "# Programa que calcula a circunferência do circulo. \n",
        "\n",
        "\n",
        "raio = float(input('Entre com o valor do raio: '))\n",
        "\n",
        "circunferencia = 2 * 3.14 * raio\n",
        "\n",
        "print(\"A circuferência do círculo: {:.2f}\".format(circunferencia))\n",
        "\n",
        "\n",
        "\n",
        "\n"
      ]
    },
    {
      "cell_type": "code",
      "execution_count": null,
      "metadata": {
        "id": "qluhVwVPnwVp"
      },
      "outputs": [],
      "source": [
        "complex(6,8)\n",
        "(6+8j)\n"
      ]
    },
    {
      "cell_type": "code",
      "execution_count": null,
      "metadata": {
        "colab": {
          "base_uri": "https://localhost:8080/"
        },
        "id": "sraCBa74n88c",
        "outputId": "d07b4864-352d-4a68-f238-842549af9771"
      },
      "outputs": [
        {
          "data": {
            "text/plain": [
              "(3.4+3.4j)"
            ]
          },
          "execution_count": 8,
          "metadata": {},
          "output_type": "execute_result"
        }
      ],
      "source": [
        "complex(3.4, 3.4)\n",
        "(3.4 + 3.4j)\n"
      ]
    },
    {
      "cell_type": "code",
      "execution_count": null,
      "metadata": {
        "id": "F4DUkdA5aTpB"
      },
      "outputs": [],
      "source": [
        "\n",
        "\n",
        "\n",
        "# programa que calcule a area do triangulo.\n",
        "\n",
        "altura = float (input('Digite a altura do triangulo:'))\n",
        "\n",
        "base = float ( input('Digite a base do triangulo:'))\n",
        "\n",
        "area = (base * altura)/ 2\n",
        "\n",
        "print('A area do triangulo é:' , area)\n",
        "\n",
        "\n",
        "\n"
      ]
    },
    {
      "cell_type": "code",
      "execution_count": null,
      "metadata": {
        "id": "-IGryxITtw_4"
      },
      "outputs": [],
      "source": [
        "# escreva um programa, variável que receba o mome e\n",
        "# exiba seu nome na tela : \n",
        "nome = input( ' Digite seu nome ')\n",
        "print('Seu nome é:', nome)\n",
        "\n",
        "\n",
        "\n",
        "\n"
      ]
    },
    {
      "cell_type": "code",
      "execution_count": null,
      "metadata": {
        "id": "aYWiLlvHRyE_"
      },
      "outputs": [],
      "source": [
        "# Exercício 1 - Crie uma função que imprima a sequência de números pares entre 1 e 20 (a função não recebe parâmetro) e \n",
        "# depois faça uma chamada à função para listar os números\n",
        "def numeros():\n",
        "    for par in range(1,20):\n",
        "        if par % 2 == 0:\n",
        "            print(par)\n",
        "             "
      ]
    },
    {
      "cell_type": "code",
      "execution_count": null,
      "metadata": {
        "id": "9fTMBXKb1dPu"
      },
      "outputs": [],
      "source": [
        "# Pedindo as notas, programa que solicita duas notas e\n",
        "# calcula sua media. \n",
        "prog = float( input(\"Digite a nota de Informatica aplicada \"))\n",
        "circ = float( input(\"Agora a nota de Circuitos Digitais: \") )\n",
        "# Cálculo da média\n",
        "media = (prog + circ) / 2\n",
        "print(\"A média desse estudante foi: \",media)\n"
      ]
    },
    {
      "cell_type": "markdown",
      "metadata": {
        "id": "2m5SCedU280N"
      },
      "source": []
    },
    {
      "cell_type": "code",
      "execution_count": null,
      "metadata": {
        "id": "KEsp1zhxz94T"
      },
      "outputs": [],
      "source": [
        "# String ( caracteres alfanúmericos)\n",
        "# Interger int( números inteiros)\n",
        "# float (Números Fracionados)\n",
        "# boolean ( Booleano )\n",
        "string = \"isso é uma string \"\n",
        "string"
      ]
    },
    {
      "cell_type": "code",
      "execution_count": null,
      "metadata": {
        "id": "t5dziJtzXVdG"
      },
      "outputs": [],
      "source": [
        "\n",
        "\n",
        "# programa que mostre o sucessor e o antecessor. \n",
        "\n",
        "n = int(input('Digite um número: '))\n",
        "a = n - 1\n",
        "s = n + 1\n",
        "print('Analisando o valor {}, seu antecessor é {} e o sucessor é {} '\n",
        ".format(n, a, s))\n",
        "\n",
        "# outra forma de representar o programa. \n",
        "\n",
        "print('Analisando o valor {}, seu antecessor é {} e o sucessor é {} '\n",
        ". format(n, (n-1), (n+1)))\n"
      ]
    },
    {
      "cell_type": "code",
      "execution_count": null,
      "metadata": {
        "id": "uq6t-YVs0lI8"
      },
      "outputs": [],
      "source": [
        "int = 2022\n",
        "int"
      ]
    },
    {
      "cell_type": "code",
      "execution_count": null,
      "metadata": {
        "id": "GJ-_BlfQ0-VM"
      },
      "outputs": [],
      "source": [
        "fracionado = 20.22\n",
        "fracionado"
      ]
    },
    {
      "cell_type": "code",
      "execution_count": null,
      "metadata": {
        "id": "9NhosPrv2Mt8"
      },
      "outputs": [],
      "source": [
        "boolean = True \n",
        "boolean "
      ]
    },
    {
      "cell_type": "code",
      "execution_count": null,
      "metadata": {
        "colab": {
          "base_uri": "https://localhost:8080/"
        },
        "id": "9uTOu_8D2gCd",
        "outputId": "15411fcf-149d-41ea-ae87-8a417bbe9586"
      },
      "outputs": [
        {
          "data": {
            "text/plain": [
              "(1, 2.5)"
            ]
          },
          "execution_count": 22,
          "metadata": {},
          "output_type": "execute_result"
        }
      ],
      "source": [
        "a, b = 1 , 2.50\n",
        "a, b "
      ]
    },
    {
      "cell_type": "code",
      "execution_count": null,
      "metadata": {
        "id": "EioNVMNt2msB"
      },
      "outputs": [],
      "source": [
        "c = d = 2\n",
        "c,d "
      ]
    },
    {
      "cell_type": "code",
      "execution_count": null,
      "metadata": {
        "id": "IGxZniGaDiBs"
      },
      "outputs": [],
      "source": [
        "\n",
        "#Operadores Aritméticos A linguagem Python nos permite criar expressões \n",
        "# matemáticas com imensa facilidade. No dia a dia, nem todos os programas\n",
        "# precisarão de expressões matemáticas complexas, mas é importante saber \n",
        "# como usar os operadores aritméticos do Python.\n",
        " \n",
        "# Soma e subtração\n",
        "print(10 + 2 - 7)\n",
        "# Potência: 2 ^ 4\n",
        "print(2 ** 4)\n",
        "# Divisão de ponto flutuante\n",
        "print(20 / 6)\n",
        "# Divisão inteira, sem considerar o resto\n",
        "print(20 // 6)\n",
        "# Divisão com resto \n",
        "print (20 % 6)\n",
        "\n",
        "\n",
        "\n"
      ]
    },
    {
      "cell_type": "code",
      "execution_count": null,
      "metadata": {
        "id": "HbvBnNvD6ebX"
      },
      "outputs": [],
      "source": [
        "#   Exercício Python 004 - Dissecando uma Variável\n",
        "#   Faça um programa que leia algo pelo teclado\n",
        "#   e mostre na tela o seu tipo primitivo e todas as informações possíveis sobre ele.\n",
        "\n",
        "frase = str(input(\"Digite algo: \"))\n",
        "\n",
        "print(\"O tipo primitivo desse valor é {}\".format(type(frase)))\n",
        "print(\"Só tem espaços? {}\".format(frase.isspace()))\n",
        "print(\"É um número? {}\".format(frase.isnumeric()))\n",
        "print(\"É alfabético? {}\".format(frase.isalpha()))\n",
        "print(\"É alfanumérico? {}\".format(frase.isalnum()))\n",
        "print(\"Esta em maiúsculas? {}\".format(frase.isupper()))\n",
        "print(\"Esta em minúsculas? {}\".format(frase.islower()))\n",
        "print(\"Esta capilatizado? {}\".format(frase.istitle()))"
      ]
    },
    {
      "cell_type": "code",
      "execution_count": null,
      "metadata": {
        "id": "m2uZG9py6xaN"
      },
      "outputs": [],
      "source": [
        "\n",
        "def menu():\n",
        "    continuar=1\n",
        "    while continuar:\n",
        "        continuar = int(input(\"0. Sair \\n\"+\n",
        "                              \"1. Jogar novamente\\n\"))\n",
        "        if continuar:\n",
        "            game()\n",
        "        else:\n",
        "            print(\"Saindo...\")\n",
        "\n",
        "def game():\n",
        "    jogada=0\n",
        "\n",
        "    while ganhou() == 0:\n",
        "        print(\"\\nJogador \", jogada%2 + 1)\n",
        "        exibe()\n",
        "        linha  = int(input(\"\\nLinha :\"))\n",
        "        coluna = int(input(\"Coluna:\"))\n",
        "\n",
        "        if board[linha-1][coluna-1] == 0:\n",
        "            if(jogada%2+1)==1:\n",
        "                board[linha-1][coluna-1]=1\n",
        "            else:\n",
        "                board[linha-1][coluna-1]=-1\n",
        "        else:\n",
        "            print(\"Nao esta vazio\")\n",
        "            jogada -=1\n",
        "\n",
        "        if ganhou():\n",
        "            print(\"Jogador \",jogada%2 + 1,\" ganhou apos \", jogada+1,\" rodadas\")\n",
        "\n",
        "        jogada +=1\n",
        "    \n",
        "def ganhou():\n",
        "    #checando linhas\n",
        "    for i in range(3):\n",
        "        soma = board[i][0]+board[i][1]+board[i][2]\n",
        "        if soma==3 or soma ==-3:\n",
        "            return 1\n",
        "\n",
        "     #checando colunas\n",
        "    for i in range(3):\n",
        "        soma = board[0][i]+board[1][i]+board[2][i]\n",
        "        if soma==3 or soma ==-3:\n",
        "            return 1\n",
        "\n",
        "    #checando diagonais\n",
        "    diagonal1 = board[0][0]+board[1][1]+board[2][2]\n",
        "    diagonal2 = board[0][2]+board[1][1]+board[2][0]\n",
        "    if diagonal1==3 or diagonal1==-3 or diagonal2==3 or diagonal2==-3:\n",
        "        return 1\n",
        "\n",
        "    return 0\n",
        "\n",
        "def exibe():\n",
        "    for i in range(3):\n",
        "        for j in range(3):\n",
        "            if board[i][j] == 0:\n",
        "                print(\" _ \", end=' ')\n",
        "            elif board[i][j] == 1:\n",
        "                print(\" X \", end=' ')\n",
        "\n",
        "            elif board[i][j] == -1:\n",
        "                print(\" O \", end=' ')\n",
        "\n",
        "        print()\n",
        "                \n",
        "\n",
        "board= [ [0,0,0],\n",
        "         [0,0,0],\n",
        "         [0,0,0] ]\n",
        "\n",
        "menu()\n"
      ]
    },
    {
      "cell_type": "code",
      "execution_count": null,
      "metadata": {
        "id": "QuK6w097KbV7"
      },
      "outputs": [],
      "source": [
        "\n",
        "n = 6\n",
        "fatorial = 1\n",
        "while n > 1:\n",
        "  fatorial *= n \n",
        "  n -= 1 \n",
        "print(fatorial)\n"
      ]
    },
    {
      "cell_type": "code",
      "execution_count": null,
      "metadata": {
        "id": "DOXg1s0zK7DA"
      },
      "outputs": [],
      "source": [
        "\n",
        "# Exemplo de função que retorna um valor.\n",
        "def f(n):\n",
        "    return n \n",
        "resultado = f(10)\n",
        "print(\"O valor do parâmetro é {}\".format(resultado))\n"
      ]
    },
    {
      "cell_type": "code",
      "execution_count": null,
      "metadata": {
        "id": "md95g7LHLLyd"
      },
      "outputs": [],
      "source": [
        "\n",
        "# Outro exemplo de função que retorna um valor.\n",
        "def eleva_ao_quadrado(n):\n",
        " return n ** 2\n",
        "print(\"O número {} elevado ao quadrado é {}\".format(10, eleva_ao_quadrado(10)))\n",
        "\n"
      ]
    },
    {
      "cell_type": "code",
      "execution_count": null,
      "metadata": {
        "id": "fstJjISWLXqP"
      },
      "outputs": [],
      "source": [
        "# Exemplo de função que retorna mais de um valor.\n",
        "def quociente_resto(x, y):\n",
        "    quociente = x // y\n",
        "    resto = x % y\n",
        "    return (quociente, resto)\n",
        "\n",
        "print(\"Quociente e resto: \", quociente_resto(9, 4))"
      ]
    },
    {
      "cell_type": "code",
      "execution_count": null,
      "metadata": {
        "id": "TEJstBdoLtBD"
      },
      "outputs": [],
      "source": [
        "# Exemplo mais elaborado de função em Python.\n",
        "def fatorial(n):\n",
        "    fat = 1\n",
        "    while n > 1:\n",
        "        fat *= n\n",
        "        n -= 1\n",
        "    return fat\n",
        "print(\"O fatorial de {} é {}\".format(6, fatorial(6)))"
      ]
    },
    {
      "cell_type": "code",
      "execution_count": null,
      "metadata": {
        "colab": {
          "base_uri": "https://localhost:8080/"
        },
        "id": "RzrHtzQcgJte",
        "outputId": "67ef106b-9e23-45da-be25-41762252d072"
      },
      "outputs": [
        {
          "name": "stdout",
          "output_type": "stream",
          "text": [
            "A soma é:  13  O quadrado é: 169\n"
          ]
        }
      ],
      "source": [
        "\n",
        "\n",
        "\n",
        "#Variavel recebe dois numeros e soma e mostre o quadrado\n",
        "# da soma. \n",
        "\n",
        "a = 5\n",
        "b = 8 \n",
        "soma = a + b \n",
        "quadrado = soma**2\n",
        "print( 'A soma é: ', soma, ' O quadrado é:',quadrado )\n",
        "\n",
        "\n",
        "\n"
      ]
    },
    {
      "cell_type": "code",
      "execution_count": null,
      "metadata": {
        "colab": {
          "base_uri": "https://localhost:8080/"
        },
        "id": "FmGsFEsThaM2",
        "outputId": "e0ad5996-cabb-4deb-8a64-32118db47822"
      },
      "outputs": [
        {
          "name": "stdout",
          "output_type": "stream",
          "text": [
            "A soma é 13\n"
          ]
        }
      ],
      "source": [
        "# Algoritimo que some dois numeros e mostre se a soma é 13.\n",
        "a = 5\n",
        "b = 8\n",
        "soma = a + b \n",
        "if soma == 13:\n",
        "  print('A soma é 13')\n",
        "else:\n",
        "  print('A soma não é 13')\n",
        "\n"
      ]
    },
    {
      "cell_type": "code",
      "execution_count": null,
      "metadata": {
        "id": "SrafEqvXP-Vr"
      },
      "outputs": [],
      "source": [
        "def soma(x,y):\n",
        " total = x+y\n",
        " print(\"Total soma = \",total)\n",
        "#programa principal\n",
        "total = 10\n",
        "soma(3,5)\n",
        "print(\"Total principal = \",total)"
      ]
    },
    {
      "cell_type": "code",
      "execution_count": null,
      "metadata": {
        "id": "emOacnmqoopn"
      },
      "outputs": [],
      "source": [
        "# 7) Faça um Programa que calcule a área de um quadrado, \n",
        "# em seguida mostre o dobro desta área para o usuário.  \n",
        " \n",
        "lado = float(input(\"Informe o lado do quadrado\"))\n",
        "area = lado * lado\n",
        "dobro = (area * 2)\n",
        "print(\"A área é do Quadrado é:\",area,\"e o dobro é \", dobro)\n",
        "\n",
        "\n",
        "\n"
      ]
    },
    {
      "cell_type": "markdown",
      "metadata": {
        "id": "WYtMrB4HFaDq"
      },
      "source": [
        "## variaveis em boolean"
      ]
    },
    {
      "cell_type": "code",
      "execution_count": null,
      "metadata": {
        "id": "3jtFLlSjmGc2"
      },
      "outputs": [],
      "source": [
        "for n in range(8):\n",
        "  print(n)"
      ]
    },
    {
      "cell_type": "code",
      "execution_count": null,
      "metadata": {
        "id": "4F5-NidyCyJp"
      },
      "outputs": [],
      "source": [
        "# Controle de fluxo por repetição (for, while)\n",
        "notas = [0, 0, 9.0, 8.0, 5.0, 10.0, 7.0, 7.5, 4.0, 10.0, 7.0,]\n",
        "\n",
        "notas_validas = [nota for nota in notas if nota > 6.0]\n",
        "print(notas_validas)\n",
        "\n",
        "\n"
      ]
    },
    {
      "cell_type": "code",
      "execution_count": null,
      "metadata": {
        "id": "QXVI7K-ePPza"
      },
      "outputs": [],
      "source": [
        "#taboada de 2 no laço de repetição for \n",
        "\n",
        "for i in range(1,11):\n",
        "  \n",
        "  print(f\"2*{i}={2*i}\")\n"
      ]
    },
    {
      "cell_type": "code",
      "execution_count": null,
      "metadata": {
        "id": "jHxs2bRzFGCG"
      },
      "outputs": [],
      "source": [
        "[9.0, 8.0, 5.0, 10.0, 7.0, 7.5, 4.0, 10.0, 7.0, 7.0, 8.0, 8.0, 7.5]\n",
        "media_valida = sum(notas_validas) / len(notas_validas)\n",
        "print(media_valida)\n",
        "qtd_de_setes = notas.count(7.0)\n",
        "print(qtd_de_setes)\n",
        "qtd_alunos_na_media = notas.count(7.0) + notas.count(7.5) + notas.count(8.0)\n",
        "print(qtd_alunos_na_media)\n",
        "\n",
        "\n"
      ]
    },
    {
      "cell_type": "code",
      "execution_count": null,
      "metadata": {
        "id": "A-bMsl11KhKp"
      },
      "outputs": [],
      "source": [
        "B = ['A','C','D','H']\n",
        "B"
      ]
    },
    {
      "cell_type": "code",
      "execution_count": null,
      "metadata": {
        "id": "S5fzPpatKzau"
      },
      "outputs": [],
      "source": [
        "lista1 = ['a', 'b', 'c'] # união das listas\n",
        "lista2 = [ 'd', 'e', 'f', 'g']\n",
        "uniao = lista1 + lista2 \n",
        "print(uniao)"
      ]
    },
    {
      "cell_type": "code",
      "execution_count": null,
      "metadata": {
        "id": "f8F7SsLZLrdH"
      },
      "outputs": [],
      "source": [
        "h =  [0,1,2] # repetir elementos de uma lista usando o operador\n",
        "h*4"
      ]
    },
    {
      "cell_type": "code",
      "execution_count": null,
      "metadata": {
        "id": "Fdv3fVVOONia"
      },
      "outputs": [],
      "source": [
        "#contruir lista com construtor list() \n",
        "tupla = (1,2,3,4,5)\n",
        "lista = list(tupla)\n",
        "lista"
      ]
    },
    {
      "cell_type": "code",
      "execution_count": null,
      "metadata": {
        "id": "7h6yvB9YzTK6"
      },
      "outputs": [],
      "source": [
        "\n",
        "notas = [0, 0, 9.0, 8.0, 5.0, 10.0, 7.0, 7.5, 4.0, 10.0,7.0,5]\n",
        "qtd_alunos_na_media = 0\n",
        "for nota in notas:\n",
        " if 6.0 <= nota <= 7.0:\n",
        "  qtd_alunos_na_media += 1\n",
        "print(qtd_alunos_na_media)\n",
        "# Programa ira calcular e mostrar quantidade\n",
        "# de alunos na media .\n"
      ]
    },
    {
      "cell_type": "code",
      "execution_count": null,
      "metadata": {
        "id": "iJdggf0YRNSR"
      },
      "outputs": [],
      "source": [
        "# tabuada do 2 com laço de repetição for\n",
        "for i in range(1,11):\n",
        "  print(f\"2*{i} = {2*i}\")"
      ]
    },
    {
      "cell_type": "code",
      "execution_count": null,
      "metadata": {
        "id": "yl1-jQXmi2lt"
      },
      "outputs": [],
      "source": []
    },
    {
      "cell_type": "code",
      "execution_count": null,
      "metadata": {
        "id": "_FrLGirWlfvW"
      },
      "outputs": [],
      "source": [
        "lado = float(input(\"Informe o lado do quadrado\"))\n",
        "area = lado * lado\n",
        "dobro = area * 2\n",
        "print(\"A área é do Quadrado é: \",area, \"e o dobro é \", dobro)"
      ]
    },
    {
      "cell_type": "markdown",
      "metadata": {
        "id": "ok7Ad9vxFyYT"
      },
      "source": [
        "### Atribuição de Variaveis. "
      ]
    },
    {
      "cell_type": "code",
      "execution_count": null,
      "metadata": {
        "id": "IvW5rp4fGBAa"
      },
      "outputs": [],
      "source": [
        "meu_nome = 'Rubens Palhares'\n",
        "print (meu_nome)\n",
        "\n"
      ]
    },
    {
      "cell_type": "code",
      "execution_count": null,
      "metadata": {
        "id": "fy0vYAqombke"
      },
      "outputs": [],
      "source": [
        "\n",
        "\n",
        "\n",
        "for n in range(8):\n",
        "\n",
        "\n",
        "  print('Bem vindo ao Curso Mecatrônica')\n",
        "\n",
        "\n",
        "\n"
      ]
    },
    {
      "cell_type": "code",
      "execution_count": null,
      "metadata": {
        "id": "zb-ohtWAfqV0"
      },
      "outputs": [],
      "source": [
        " \n",
        " \n",
        " # programa que atribua duas variáveis valores inteiros \n",
        " #e some e depois mostre a soma  e o quadrado notas.\n",
        "\n",
        "a = 55\n",
        "b = 80\n",
        "soma = a + b \n",
        "print(soma)\n",
        "soma ** 2  \n",
        "\n",
        "\n",
        "\n",
        "\n"
      ]
    },
    {
      "cell_type": "code",
      "execution_count": null,
      "metadata": {
        "id": "jQFP3tq7vGDX"
      },
      "outputs": [],
      "source": [
        "# programa para mostrar o campo de notas \"otimo\", \"Regular\" e \"Abaixo da media\"\n",
        "for i in range(0,11):\n",
        "  if i >= 7:\n",
        "    print(f'A nota {i} é ótima')\n",
        "  elif i >= 5:\n",
        "    print(f'A nota {i} é regular')\n",
        "  else: \n",
        "    print(f'A nota {i} é abaixo da média')  "
      ]
    },
    {
      "cell_type": "code",
      "execution_count": null,
      "metadata": {
        "id": "fnjynCyVSn7K"
      },
      "outputs": [],
      "source": [
        "10 == 10 # operadores de comparação "
      ]
    },
    {
      "cell_type": "code",
      "execution_count": null,
      "metadata": {
        "id": "9Um97ithSxqm"
      },
      "outputs": [],
      "source": [
        "10 == 11 "
      ]
    },
    {
      "cell_type": "code",
      "execution_count": null,
      "metadata": {
        "id": "IYDCK2UjS1ul"
      },
      "outputs": [],
      "source": [
        "10 >= 5"
      ]
    },
    {
      "cell_type": "code",
      "execution_count": null,
      "metadata": {
        "id": "0AAPBKoXS8Ud"
      },
      "outputs": [],
      "source": [
        "10 > 5"
      ]
    },
    {
      "cell_type": "code",
      "execution_count": null,
      "metadata": {
        "id": "XZAB_dZlTBGk"
      },
      "outputs": [],
      "source": [
        "10 <= 5"
      ]
    },
    {
      "cell_type": "code",
      "execution_count": null,
      "metadata": {
        "id": "TFRj8oizTGnN"
      },
      "outputs": [],
      "source": [
        "10 < 5"
      ]
    },
    {
      "cell_type": "code",
      "execution_count": null,
      "metadata": {
        "id": "gqPHJfNdUmqg"
      },
      "outputs": [],
      "source": [
        "(a > 20) and (a > 2 )"
      ]
    },
    {
      "cell_type": "code",
      "execution_count": null,
      "metadata": {
        "id": "y_ka6hG0VQD_"
      },
      "outputs": [],
      "source": [
        "(a < 20) and not ( a > 2 ) # operador NAND \n",
        "# retornara False se ambas as delcarações forem verdadeiras "
      ]
    },
    {
      "cell_type": "code",
      "execution_count": null,
      "metadata": {
        "id": "un-5kiVWVs1B"
      },
      "outputs": [],
      "source": [
        "(a > 20) and not (a < 2 )"
      ]
    },
    {
      "cell_type": "code",
      "execution_count": null,
      "metadata": {
        "id": "4Bral6wJVz5O"
      },
      "outputs": [],
      "source": [
        "(a!=10 ) or (a > 2) # operador OR\n",
        "#retornará True se pelo menos uma das declarações forem verdadeiras\n",
        "\n",
        "\n",
        "\n"
      ]
    },
    {
      "cell_type": "code",
      "execution_count": null,
      "metadata": {
        "id": "jI4EpCuvq8yU"
      },
      "outputs": [],
      "source": [
        "# operação mostra o resultado inteiro\n",
        "print(16//3)"
      ]
    },
    {
      "cell_type": "code",
      "execution_count": null,
      "metadata": {
        "id": "aflHH-l5rT9k"
      },
      "outputs": [],
      "source": [
        "\n",
        "# operação que mostra o resto da divisão \n",
        "print(5%2)\n",
        "\n",
        "\n",
        "\n",
        "\n",
        "\n"
      ]
    },
    {
      "cell_type": "code",
      "execution_count": null,
      "metadata": {
        "id": "pOPX3oiBsi8Z"
      },
      "outputs": [],
      "source": [
        "variavel1 = 53\n",
        "variavel2 = 74\n",
        "variavel3 = 98\n",
        "variavel4 = 440\n",
        "print(variavel2)\n",
        "\n"
      ]
    },
    {
      "cell_type": "code",
      "execution_count": null,
      "metadata": {
        "id": "EfnWnJ0YtV7Z"
      },
      "outputs": [],
      "source": [
        "#crie um script python que leia o dia, mês e o ano de\n",
        "# nascimento de uma pessoa e mostre uma mensagem com\n",
        "# a data formatada.\n",
        "print('Informe sua data de nascimento')\n",
        "dia = input('Dia')\n",
        "mês = input('Mês')\n",
        "ano = input('Ano')\n",
        "print('Você nasceu dia', dia , 'Mês', mês ,'Ano', ano)"
      ]
    },
    {
      "cell_type": "code",
      "execution_count": null,
      "metadata": {
        "id": "SPH2pWHxLkWz"
      },
      "outputs": [],
      "source": [
        "# Cálculo da área de um triangulo.\n",
        "base = 2\n",
        "altura = 5\n",
        "area = (base * altura) / 2\n",
        "print(area)"
      ]
    },
    {
      "cell_type": "code",
      "execution_count": null,
      "metadata": {
        "id": "HB8NBSn7MKjA"
      },
      "outputs": [],
      "source": [
        "condicao = False\n",
        "if condicao == True:\n",
        "    print(\"A condicao é verdadeira.\")\n",
        "else:\n",
        "    print(\"A condicao é falsa.\")"
      ]
    },
    {
      "cell_type": "code",
      "execution_count": null,
      "metadata": {
        "id": "KWrcNxv8MS1B"
      },
      "outputs": [],
      "source": [
        "\n",
        "\n",
        "condicao_1 = False\n",
        "condicao_2 = False \n",
        "if condicao_1:\n",
        "  print(\"A condicao_1 é verdadeira.\")\n",
        "elif condicao_2:\n",
        "  print(\"A condicao_2 é verdadeira.\")\n",
        "else:\n",
        "  print(\"As condições condicao_1 e condicao_2 são falsas.\")\n",
        "\n",
        "\n",
        "\n",
        "\n"
      ]
    },
    {
      "cell_type": "markdown",
      "metadata": {
        "id": "vPw7Xas424sD"
      },
      "source": []
    },
    {
      "cell_type": "code",
      "execution_count": null,
      "metadata": {
        "id": "M3acBgBKW5W0"
      },
      "outputs": [],
      "source": [
        "n1 = int(input('Digite o primero número '))\n",
        "n2 = int(input('Digite o segundo número '))\n",
        "s = n1+n2\n",
        "\n",
        "print(\"A soma dos seus números é: \", s)"
      ]
    },
    {
      "cell_type": "code",
      "execution_count": null,
      "metadata": {
        "id": "G-7mW6STXKVV"
      },
      "outputs": [],
      "source": [
        "n = int(input('Digite um número: '))\n",
        "a = n - 1\n",
        "s = n + 1\n",
        "print('Analisando o valor {}, seu antecessor é {} e o sucessor é {} '.format(n, a, s))\n",
        "\n",
        "print('Analisando o valor {}, seu antecessor é {} e o sucessor é {} '. format(n, (n-1), (n+1)))"
      ]
    },
    {
      "cell_type": "code",
      "execution_count": null,
      "metadata": {
        "id": "5nxbnh5gYGvC"
      },
      "outputs": [],
      "source": [
        "n = float(input('Quanto você tem na sua carteira? R$ '))\n",
        "c = n / 5.27\n",
        "print(\"Você tem R$ {:.2f} reais que pode comprar U$ {:.2f} dolar: \".format(n , c))"
      ]
    },
    {
      "cell_type": "code",
      "execution_count": null,
      "metadata": {
        "id": "aD4oRhrwYX86"
      },
      "outputs": [],
      "source": [
        "\n",
        "\n",
        "\n",
        "\n",
        "medida = float(input('Digite uma distância em mêtros: '))\n",
        "cm = medida * 100\n",
        "mm = medida * 1000\n",
        "print('A medida de {} corresponde a {:.0f} cm e {:.0f} mm '.format(medida, cm, mm))"
      ]
    },
    {
      "cell_type": "code",
      "execution_count": null,
      "metadata": {
        "id": "PJTr5QMSZP76"
      },
      "outputs": [],
      "source": [
        "\n",
        "\n",
        "\n",
        "num = int(input(\"Digite um numero inteiro \"))\n",
        "if num % 2 == 0:\n",
        "    print('O numero {} é par! '.format(num))\n",
        "else:\n",
        "    print('O numero {} é impar! '. format(num))\n",
        "\n",
        "\n",
        "\n",
        "    "
      ]
    },
    {
      "cell_type": "code",
      "execution_count": null,
      "metadata": {
        "id": "36NtIWXHH5FQ"
      },
      "outputs": [],
      "source": [
        "\n",
        "\n",
        "\n",
        "\n",
        "if (True == False):\n",
        " print('Esse é o Código que será executado caso a declaração seja verdadeira')\n",
        "else:\n",
        " print('Esse é o código executado caso a declaração seja Falsa')\n",
        "\n",
        "\n",
        "\n",
        "\n",
        "\n"
      ]
    },
    {
      "cell_type": "code",
      "execution_count": null,
      "metadata": {
        "id": "h9oFlErVY172"
      },
      "outputs": [],
      "source": [
        "\n",
        "# programa que receba nome, idade e peso de uma pessoa e\n",
        "# mostre na tela. \n",
        "\n",
        "nome='Marcos'\n",
        "idade=55\n",
        "peso=87.0\n",
        "\n",
        "print(nome,idade,peso)"
      ]
    },
    {
      "cell_type": "code",
      "execution_count": null,
      "metadata": {
        "id": "S7P9PKBSYKZL"
      },
      "outputs": [],
      "source": [
        "for i in range(1,11):\n",
        "  print(f\"2*{i} = {2*i}\")"
      ]
    },
    {
      "cell_type": "code",
      "execution_count": null,
      "metadata": {
        "id": "9ICyFspMf8oh"
      },
      "outputs": [],
      "source": [
        "for i in range (0,11):\n",
        "  if i > 7:\n",
        "    print(f\"A nota {i} é otima.\")\n",
        "  if i == 5:\n",
        "    print(f\"A nota {i} é regular\")\n",
        "  if i <= 4:\n",
        "    print(f\"A nota {i} é abaixo da média\")"
      ]
    },
    {
      "cell_type": "code",
      "execution_count": null,
      "metadata": {
        "id": "MRgi8XAsgVda"
      },
      "outputs": [],
      "source": [
        "nome_da_lista = []\n",
        "print(nome_da_lista)"
      ]
    },
    {
      "cell_type": "code",
      "execution_count": null,
      "metadata": {
        "id": "i7tpQ7Fr4OQV"
      },
      "outputs": [],
      "source": [
        "nome_da_lista = [ 1, 2,3, \"olá\" , 1.1 ]\n",
        "print(nome_da_lista)"
      ]
    },
    {
      "cell_type": "code",
      "execution_count": null,
      "metadata": {
        "id": "REHgrV3w6BJH"
      },
      "outputs": [],
      "source": [
        "nome_da_lista = [\"Olá, mundo\", [1,2,3,],[\"outra lista\"]]\n",
        "print(nome_da_lista)\n",
        "nome_da_lista.append(60)\n",
        "print(nome_da_lista)\n"
      ]
    },
    {
      "cell_type": "code",
      "execution_count": null,
      "metadata": {
        "id": "JU4mi5eCCZmR"
      },
      "outputs": [],
      "source": [
        "numeros = [45,50,55]\n",
        "print(numeros)\n",
        "numeros.insert()\n",
        "print(numeros)"
      ]
    },
    {
      "cell_type": "code",
      "execution_count": null,
      "metadata": {
        "id": "WtVAZa_TJvo_"
      },
      "outputs": [],
      "source": [
        "numeros=[0,0,0,0] #declaramos uma lista\n",
        "numeros.extend([1,2,3])# adicionamos apenas os números da interavél\n",
        "print(numeros)\n"
      ]
    },
    {
      "cell_type": "code",
      "execution_count": null,
      "metadata": {
        "id": "O3LHpMVhKWBp"
      },
      "outputs": [],
      "source": [
        "numeros.extend((4,5,6))#adicionamos os numeros a tupla\n",
        "print(numeros)"
      ]
    },
    {
      "cell_type": "code",
      "execution_count": null,
      "metadata": {
        "id": "X4zW2MqGRHjc"
      },
      "outputs": [],
      "source": [
        "numeros.insert(0,11)\n",
        "print(numeros)"
      ]
    },
    {
      "cell_type": "code",
      "execution_count": null,
      "metadata": {
        "id": "i57dRGdujDX3"
      },
      "outputs": [],
      "source": [
        "elemento = 10\n",
        "estah_presente = False\n",
        "lista = [1, 2, 7, 10, 15, 20, 50]\n",
        "for item in lista:\n",
        "  if item == elemento:\n",
        "    estah_presente = True\n",
        "\n",
        "if estah_presente:\n",
        "  print(\"Elemento está na lista!\")\n",
        "else:\n",
        "  print(\"Elemento não está na lista!\")"
      ]
    },
    {
      "cell_type": "code",
      "execution_count": null,
      "metadata": {
        "id": "QBqOdTo_RQhk"
      },
      "outputs": [],
      "source": [
        "numeros = [10,11,12,13]\n",
        "print(numeros)\n",
        "numeros.remove(10)\n",
        "print(numeros)"
      ]
    },
    {
      "cell_type": "code",
      "execution_count": null,
      "metadata": {
        "id": "uCsqYHeCjCSk"
      },
      "outputs": [],
      "source": [
        "#pop remove e retorna o elemento com indice especificado\n",
        "numeros= ['k','m','z','a','b','k']\n",
        "print(numeros)\n",
        "numeros.pop(1)"
      ]
    },
    {
      "cell_type": "code",
      "execution_count": null,
      "metadata": {
        "id": "jfzXcpgmj-bL"
      },
      "outputs": [],
      "source": [
        "numeros=['k','m','z','a','b']\n",
        "numeros.pop(3)"
      ]
    },
    {
      "cell_type": "code",
      "source": [
        "idade = 40 \n",
        "idade"
      ],
      "metadata": {
        "colab": {
          "base_uri": "https://localhost:8080/"
        },
        "id": "RFg6a1hI4ybv",
        "outputId": "bcad65d4-b35b-42e7-b66b-0ee5759c30a3"
      },
      "execution_count": null,
      "outputs": [
        {
          "output_type": "execute_result",
          "data": {
            "text/plain": [
              "40"
            ]
          },
          "metadata": {},
          "execution_count": 3
        }
      ]
    },
    {
      "cell_type": "code",
      "source": [
        "mais_um_ano(43)"
      ],
      "metadata": {
        "id": "nam9nEfn5L0v"
      },
      "execution_count": null,
      "outputs": []
    },
    {
      "cell_type": "code",
      "execution_count": null,
      "metadata": {
        "id": "LO09Ztet8Jej"
      },
      "outputs": [],
      "source": [
        "def mais_um_ano(idade):\n",
        "  print('Tá dentro dessa função')\n",
        "  return idade +1\n",
        "\n",
        "\n",
        "\n",
        "\n",
        "\n",
        "  "
      ]
    },
    {
      "cell_type": "code",
      "source": [
        "def ola():\n",
        "  print('Seja bem vindo as Funções em python')\n",
        "  print('Nessa aula aprenderemos a utilizar Funções')\n",
        "ola()\n"
      ],
      "metadata": {
        "id": "6ds9XEnk1-e-"
      },
      "execution_count": null,
      "outputs": []
    },
    {
      "cell_type": "code",
      "source": [
        "# Instruções com parâmetros\n",
        "def ola(nome):\n",
        "  print('Seja bem vindo '+ nome)\n",
        "ola('Rubens')"
      ],
      "metadata": {
        "id": "unbpgGVB2lk9"
      },
      "execution_count": null,
      "outputs": []
    },
    {
      "cell_type": "code",
      "source": [
        "# introdução ao return \n",
        "def soma():\n",
        "  return 10\n",
        "\n",
        "num = soma()\n",
        "print( num )\n"
      ],
      "metadata": {
        "id": "uNHe66yf6L3v"
      },
      "execution_count": null,
      "outputs": []
    },
    {
      "cell_type": "code",
      "source": [
        "def soma(x,y):\n",
        "    num = x * y\n",
        "    return num\n",
        "    print(\"teste\")\n",
        "\n",
        "print(soma(10,20))"
      ],
      "metadata": {
        "id": "oAc2JBhz7OHM"
      },
      "execution_count": null,
      "outputs": []
    },
    {
      "cell_type": "markdown",
      "source": [
        "Exemplo de uso de return\n",
        "Crie um programa em Python que tenha a função soma(x,y) que recebe dois números e retorna o valor da soma deles.\n",
        "\n",
        "Uma função que recebe dois números e calcula a soma, você já sabe fazer.\n",
        "A única diferença é que vamos dar um return nesse valor da soma,.\n",
        "\n",
        "E se estamos retornando algo, alguma coisa precisa receber esse retorno.\n",
        "Quem vai 'receber' o 'return' será a variável res."
      ],
      "metadata": {
        "id": "79Y1JHvr7vXS"
      }
    },
    {
      "cell_type": "code",
      "source": [
        "def soma(x,y):\n",
        "    result = x+y\n",
        "    return result\n",
        "\n",
        "a = int(input(\"Primeiro numero: \"))\n",
        "b = int(input(\"Segundo numero : \"))\n",
        "res = soma(a,b)\n",
        "print(\"Soma: \", res)"
      ],
      "metadata": {
        "id": "wxx-Si0_7lhq"
      },
      "execution_count": null,
      "outputs": []
    },
    {
      "cell_type": "markdown",
      "source": [
        "Se quisermos, podemos usar direto a função soma(x,y) dentro do print e encurtar ainda mais a função soma():"
      ],
      "metadata": {
        "id": "97kuj9ZN78dU"
      }
    },
    {
      "cell_type": "code",
      "source": [
        "def soma(x,y):\n",
        "    return (x+y)\n",
        "\n",
        "a = int(input(\"Primeiro numero: \"))\n",
        "b = int(input(\"Segundo numero : \"))\n",
        "print(\"Soma: \", soma(a,b))"
      ],
      "metadata": {
        "id": "yQeeePBB7z6d"
      },
      "execution_count": null,
      "outputs": []
    },
    {
      "cell_type": "markdown",
      "source": [
        "Exemplo de uso de return com Strings\n",
        "Crie um programa em Python que peça o nome e o sobrenome de uma pessoa, depois exiba na tela a mensagem \"Olá sobrenome, nome\".\n",
        "\n",
        "Ou seja, ele inverte a ordem do nome e sobrenome.\n",
        "Vamos criar a função inverte, que recebe duas strings.\n",
        "Dentro dessa função, criamos uma nova string a nomeInverso, que é criada a partir do parâmetro sobrenome, uma vírgula e o parâmetro nome.\n",
        "\n",
        "Retornamos essa nova string.\n",
        "\n",
        "Já o código que chama essa função, vai receber o retorno dela e armazenar na variável invertido, em seguida imprimimos essa variável, veja como fica:"
      ],
      "metadata": {
        "id": "KgauSeig8P7X"
      }
    },
    {
      "cell_type": "code",
      "source": [
        "def inverte(nome, sobrenome):\n",
        "    nomeInverso = sobrenome+\",\"+nome\n",
        "    return nomeInverso\n",
        "\n",
        "nome = input(\"Nome: \")\n",
        "sobrenome = input(\"Sobrenome: \")\n",
        "invertido = inverte(nome,sobrenome)\n",
        "\n",
        "print(\"Olá\", invertido)"
      ],
      "metadata": {
        "id": "TrG6C6Yz8EEJ"
      },
      "execution_count": null,
      "outputs": []
    },
    {
      "cell_type": "markdown",
      "metadata": {
        "id": "ICUtWqt2SkLi"
      },
      "source": [
        "\n",
        "\n",
        "1.   Item da lista\n",
        "2.   Item da lista\n",
        "\n"
      ]
    },
    {
      "cell_type": "code",
      "source": [
        "import seaborn as sns"
      ],
      "metadata": {
        "id": "wVerooSI_4QF"
      },
      "execution_count": null,
      "outputs": []
    },
    {
      "cell_type": "code",
      "source": [
        "import pandas as pd\n",
        "import numpy as pd"
      ],
      "metadata": {
        "id": "C_ubonVvANWq"
      },
      "execution_count": null,
      "outputs": []
    },
    {
      "cell_type": "code",
      "source": [
        "iris = pd.read_csv('iris.csv')\n",
        "iris.head(5)"
      ],
      "metadata": {
        "colab": {
          "base_uri": "https://localhost:8080/",
          "height": 363
        },
        "id": "BpjuRIKbAQm8",
        "outputId": "7af5ab30-f459-49af-a189-82ff2032c254"
      },
      "execution_count": null,
      "outputs": [
        {
          "output_type": "error",
          "ename": "FileNotFoundError",
          "evalue": "ignored",
          "traceback": [
            "\u001b[0;31m---------------------------------------------------------------------------\u001b[0m",
            "\u001b[0;31mFileNotFoundError\u001b[0m                         Traceback (most recent call last)",
            "\u001b[0;32m<ipython-input-12-d177449cc52e>\u001b[0m in \u001b[0;36m<module>\u001b[0;34m\u001b[0m\n\u001b[0;32m----> 1\u001b[0;31m \u001b[0miris\u001b[0m \u001b[0;34m=\u001b[0m \u001b[0mpd\u001b[0m\u001b[0;34m.\u001b[0m\u001b[0mread_csv\u001b[0m\u001b[0;34m(\u001b[0m\u001b[0;34m'iris.csv'\u001b[0m\u001b[0;34m)\u001b[0m\u001b[0;34m\u001b[0m\u001b[0;34m\u001b[0m\u001b[0m\n\u001b[0m\u001b[1;32m      2\u001b[0m \u001b[0miris\u001b[0m\u001b[0;34m.\u001b[0m\u001b[0mhead\u001b[0m\u001b[0;34m(\u001b[0m\u001b[0;36m5\u001b[0m\u001b[0;34m)\u001b[0m\u001b[0;34m\u001b[0m\u001b[0;34m\u001b[0m\u001b[0m\n",
            "\u001b[0;32m/usr/local/lib/python3.7/dist-packages/pandas/util/_decorators.py\u001b[0m in \u001b[0;36mwrapper\u001b[0;34m(*args, **kwargs)\u001b[0m\n\u001b[1;32m    309\u001b[0m                     \u001b[0mstacklevel\u001b[0m\u001b[0;34m=\u001b[0m\u001b[0mstacklevel\u001b[0m\u001b[0;34m,\u001b[0m\u001b[0;34m\u001b[0m\u001b[0;34m\u001b[0m\u001b[0m\n\u001b[1;32m    310\u001b[0m                 )\n\u001b[0;32m--> 311\u001b[0;31m             \u001b[0;32mreturn\u001b[0m \u001b[0mfunc\u001b[0m\u001b[0;34m(\u001b[0m\u001b[0;34m*\u001b[0m\u001b[0margs\u001b[0m\u001b[0;34m,\u001b[0m \u001b[0;34m**\u001b[0m\u001b[0mkwargs\u001b[0m\u001b[0;34m)\u001b[0m\u001b[0;34m\u001b[0m\u001b[0;34m\u001b[0m\u001b[0m\n\u001b[0m\u001b[1;32m    312\u001b[0m \u001b[0;34m\u001b[0m\u001b[0m\n\u001b[1;32m    313\u001b[0m         \u001b[0;32mreturn\u001b[0m \u001b[0mwrapper\u001b[0m\u001b[0;34m\u001b[0m\u001b[0;34m\u001b[0m\u001b[0m\n",
            "\u001b[0;32m/usr/local/lib/python3.7/dist-packages/pandas/io/parsers/readers.py\u001b[0m in \u001b[0;36mread_csv\u001b[0;34m(filepath_or_buffer, sep, delimiter, header, names, index_col, usecols, squeeze, prefix, mangle_dupe_cols, dtype, engine, converters, true_values, false_values, skipinitialspace, skiprows, skipfooter, nrows, na_values, keep_default_na, na_filter, verbose, skip_blank_lines, parse_dates, infer_datetime_format, keep_date_col, date_parser, dayfirst, cache_dates, iterator, chunksize, compression, thousands, decimal, lineterminator, quotechar, quoting, doublequote, escapechar, comment, encoding, encoding_errors, dialect, error_bad_lines, warn_bad_lines, on_bad_lines, delim_whitespace, low_memory, memory_map, float_precision, storage_options)\u001b[0m\n\u001b[1;32m    584\u001b[0m     \u001b[0mkwds\u001b[0m\u001b[0;34m.\u001b[0m\u001b[0mupdate\u001b[0m\u001b[0;34m(\u001b[0m\u001b[0mkwds_defaults\u001b[0m\u001b[0;34m)\u001b[0m\u001b[0;34m\u001b[0m\u001b[0;34m\u001b[0m\u001b[0m\n\u001b[1;32m    585\u001b[0m \u001b[0;34m\u001b[0m\u001b[0m\n\u001b[0;32m--> 586\u001b[0;31m     \u001b[0;32mreturn\u001b[0m \u001b[0m_read\u001b[0m\u001b[0;34m(\u001b[0m\u001b[0mfilepath_or_buffer\u001b[0m\u001b[0;34m,\u001b[0m \u001b[0mkwds\u001b[0m\u001b[0;34m)\u001b[0m\u001b[0;34m\u001b[0m\u001b[0;34m\u001b[0m\u001b[0m\n\u001b[0m\u001b[1;32m    587\u001b[0m \u001b[0;34m\u001b[0m\u001b[0m\n\u001b[1;32m    588\u001b[0m \u001b[0;34m\u001b[0m\u001b[0m\n",
            "\u001b[0;32m/usr/local/lib/python3.7/dist-packages/pandas/io/parsers/readers.py\u001b[0m in \u001b[0;36m_read\u001b[0;34m(filepath_or_buffer, kwds)\u001b[0m\n\u001b[1;32m    480\u001b[0m \u001b[0;34m\u001b[0m\u001b[0m\n\u001b[1;32m    481\u001b[0m     \u001b[0;31m# Create the parser.\u001b[0m\u001b[0;34m\u001b[0m\u001b[0;34m\u001b[0m\u001b[0;34m\u001b[0m\u001b[0m\n\u001b[0;32m--> 482\u001b[0;31m     \u001b[0mparser\u001b[0m \u001b[0;34m=\u001b[0m \u001b[0mTextFileReader\u001b[0m\u001b[0;34m(\u001b[0m\u001b[0mfilepath_or_buffer\u001b[0m\u001b[0;34m,\u001b[0m \u001b[0;34m**\u001b[0m\u001b[0mkwds\u001b[0m\u001b[0;34m)\u001b[0m\u001b[0;34m\u001b[0m\u001b[0;34m\u001b[0m\u001b[0m\n\u001b[0m\u001b[1;32m    483\u001b[0m \u001b[0;34m\u001b[0m\u001b[0m\n\u001b[1;32m    484\u001b[0m     \u001b[0;32mif\u001b[0m \u001b[0mchunksize\u001b[0m \u001b[0;32mor\u001b[0m \u001b[0miterator\u001b[0m\u001b[0;34m:\u001b[0m\u001b[0;34m\u001b[0m\u001b[0;34m\u001b[0m\u001b[0m\n",
            "\u001b[0;32m/usr/local/lib/python3.7/dist-packages/pandas/io/parsers/readers.py\u001b[0m in \u001b[0;36m__init__\u001b[0;34m(self, f, engine, **kwds)\u001b[0m\n\u001b[1;32m    809\u001b[0m             \u001b[0mself\u001b[0m\u001b[0;34m.\u001b[0m\u001b[0moptions\u001b[0m\u001b[0;34m[\u001b[0m\u001b[0;34m\"has_index_names\"\u001b[0m\u001b[0;34m]\u001b[0m \u001b[0;34m=\u001b[0m \u001b[0mkwds\u001b[0m\u001b[0;34m[\u001b[0m\u001b[0;34m\"has_index_names\"\u001b[0m\u001b[0;34m]\u001b[0m\u001b[0;34m\u001b[0m\u001b[0;34m\u001b[0m\u001b[0m\n\u001b[1;32m    810\u001b[0m \u001b[0;34m\u001b[0m\u001b[0m\n\u001b[0;32m--> 811\u001b[0;31m         \u001b[0mself\u001b[0m\u001b[0;34m.\u001b[0m\u001b[0m_engine\u001b[0m \u001b[0;34m=\u001b[0m \u001b[0mself\u001b[0m\u001b[0;34m.\u001b[0m\u001b[0m_make_engine\u001b[0m\u001b[0;34m(\u001b[0m\u001b[0mself\u001b[0m\u001b[0;34m.\u001b[0m\u001b[0mengine\u001b[0m\u001b[0;34m)\u001b[0m\u001b[0;34m\u001b[0m\u001b[0;34m\u001b[0m\u001b[0m\n\u001b[0m\u001b[1;32m    812\u001b[0m \u001b[0;34m\u001b[0m\u001b[0m\n\u001b[1;32m    813\u001b[0m     \u001b[0;32mdef\u001b[0m \u001b[0mclose\u001b[0m\u001b[0;34m(\u001b[0m\u001b[0mself\u001b[0m\u001b[0;34m)\u001b[0m\u001b[0;34m:\u001b[0m\u001b[0;34m\u001b[0m\u001b[0;34m\u001b[0m\u001b[0m\n",
            "\u001b[0;32m/usr/local/lib/python3.7/dist-packages/pandas/io/parsers/readers.py\u001b[0m in \u001b[0;36m_make_engine\u001b[0;34m(self, engine)\u001b[0m\n\u001b[1;32m   1038\u001b[0m             )\n\u001b[1;32m   1039\u001b[0m         \u001b[0;31m# error: Too many arguments for \"ParserBase\"\u001b[0m\u001b[0;34m\u001b[0m\u001b[0;34m\u001b[0m\u001b[0;34m\u001b[0m\u001b[0m\n\u001b[0;32m-> 1040\u001b[0;31m         \u001b[0;32mreturn\u001b[0m \u001b[0mmapping\u001b[0m\u001b[0;34m[\u001b[0m\u001b[0mengine\u001b[0m\u001b[0;34m]\u001b[0m\u001b[0;34m(\u001b[0m\u001b[0mself\u001b[0m\u001b[0;34m.\u001b[0m\u001b[0mf\u001b[0m\u001b[0;34m,\u001b[0m \u001b[0;34m**\u001b[0m\u001b[0mself\u001b[0m\u001b[0;34m.\u001b[0m\u001b[0moptions\u001b[0m\u001b[0;34m)\u001b[0m  \u001b[0;31m# type: ignore[call-arg]\u001b[0m\u001b[0;34m\u001b[0m\u001b[0;34m\u001b[0m\u001b[0m\n\u001b[0m\u001b[1;32m   1041\u001b[0m \u001b[0;34m\u001b[0m\u001b[0m\n\u001b[1;32m   1042\u001b[0m     \u001b[0;32mdef\u001b[0m \u001b[0m_failover_to_python\u001b[0m\u001b[0;34m(\u001b[0m\u001b[0mself\u001b[0m\u001b[0;34m)\u001b[0m\u001b[0;34m:\u001b[0m\u001b[0;34m\u001b[0m\u001b[0;34m\u001b[0m\u001b[0m\n",
            "\u001b[0;32m/usr/local/lib/python3.7/dist-packages/pandas/io/parsers/c_parser_wrapper.py\u001b[0m in \u001b[0;36m__init__\u001b[0;34m(self, src, **kwds)\u001b[0m\n\u001b[1;32m     49\u001b[0m \u001b[0;34m\u001b[0m\u001b[0m\n\u001b[1;32m     50\u001b[0m         \u001b[0;31m# open handles\u001b[0m\u001b[0;34m\u001b[0m\u001b[0;34m\u001b[0m\u001b[0;34m\u001b[0m\u001b[0m\n\u001b[0;32m---> 51\u001b[0;31m         \u001b[0mself\u001b[0m\u001b[0;34m.\u001b[0m\u001b[0m_open_handles\u001b[0m\u001b[0;34m(\u001b[0m\u001b[0msrc\u001b[0m\u001b[0;34m,\u001b[0m \u001b[0mkwds\u001b[0m\u001b[0;34m)\u001b[0m\u001b[0;34m\u001b[0m\u001b[0;34m\u001b[0m\u001b[0m\n\u001b[0m\u001b[1;32m     52\u001b[0m         \u001b[0;32massert\u001b[0m \u001b[0mself\u001b[0m\u001b[0;34m.\u001b[0m\u001b[0mhandles\u001b[0m \u001b[0;32mis\u001b[0m \u001b[0;32mnot\u001b[0m \u001b[0;32mNone\u001b[0m\u001b[0;34m\u001b[0m\u001b[0;34m\u001b[0m\u001b[0m\n\u001b[1;32m     53\u001b[0m \u001b[0;34m\u001b[0m\u001b[0m\n",
            "\u001b[0;32m/usr/local/lib/python3.7/dist-packages/pandas/io/parsers/base_parser.py\u001b[0m in \u001b[0;36m_open_handles\u001b[0;34m(self, src, kwds)\u001b[0m\n\u001b[1;32m    227\u001b[0m             \u001b[0mmemory_map\u001b[0m\u001b[0;34m=\u001b[0m\u001b[0mkwds\u001b[0m\u001b[0;34m.\u001b[0m\u001b[0mget\u001b[0m\u001b[0;34m(\u001b[0m\u001b[0;34m\"memory_map\"\u001b[0m\u001b[0;34m,\u001b[0m \u001b[0;32mFalse\u001b[0m\u001b[0;34m)\u001b[0m\u001b[0;34m,\u001b[0m\u001b[0;34m\u001b[0m\u001b[0;34m\u001b[0m\u001b[0m\n\u001b[1;32m    228\u001b[0m             \u001b[0mstorage_options\u001b[0m\u001b[0;34m=\u001b[0m\u001b[0mkwds\u001b[0m\u001b[0;34m.\u001b[0m\u001b[0mget\u001b[0m\u001b[0;34m(\u001b[0m\u001b[0;34m\"storage_options\"\u001b[0m\u001b[0;34m,\u001b[0m \u001b[0;32mNone\u001b[0m\u001b[0;34m)\u001b[0m\u001b[0;34m,\u001b[0m\u001b[0;34m\u001b[0m\u001b[0;34m\u001b[0m\u001b[0m\n\u001b[0;32m--> 229\u001b[0;31m             \u001b[0merrors\u001b[0m\u001b[0;34m=\u001b[0m\u001b[0mkwds\u001b[0m\u001b[0;34m.\u001b[0m\u001b[0mget\u001b[0m\u001b[0;34m(\u001b[0m\u001b[0;34m\"encoding_errors\"\u001b[0m\u001b[0;34m,\u001b[0m \u001b[0;34m\"strict\"\u001b[0m\u001b[0;34m)\u001b[0m\u001b[0;34m,\u001b[0m\u001b[0;34m\u001b[0m\u001b[0;34m\u001b[0m\u001b[0m\n\u001b[0m\u001b[1;32m    230\u001b[0m         )\n\u001b[1;32m    231\u001b[0m \u001b[0;34m\u001b[0m\u001b[0m\n",
            "\u001b[0;32m/usr/local/lib/python3.7/dist-packages/pandas/io/common.py\u001b[0m in \u001b[0;36mget_handle\u001b[0;34m(path_or_buf, mode, encoding, compression, memory_map, is_text, errors, storage_options)\u001b[0m\n\u001b[1;32m    705\u001b[0m                 \u001b[0mencoding\u001b[0m\u001b[0;34m=\u001b[0m\u001b[0mioargs\u001b[0m\u001b[0;34m.\u001b[0m\u001b[0mencoding\u001b[0m\u001b[0;34m,\u001b[0m\u001b[0;34m\u001b[0m\u001b[0;34m\u001b[0m\u001b[0m\n\u001b[1;32m    706\u001b[0m                 \u001b[0merrors\u001b[0m\u001b[0;34m=\u001b[0m\u001b[0merrors\u001b[0m\u001b[0;34m,\u001b[0m\u001b[0;34m\u001b[0m\u001b[0;34m\u001b[0m\u001b[0m\n\u001b[0;32m--> 707\u001b[0;31m                 \u001b[0mnewline\u001b[0m\u001b[0;34m=\u001b[0m\u001b[0;34m\"\"\u001b[0m\u001b[0;34m,\u001b[0m\u001b[0;34m\u001b[0m\u001b[0;34m\u001b[0m\u001b[0m\n\u001b[0m\u001b[1;32m    708\u001b[0m             )\n\u001b[1;32m    709\u001b[0m         \u001b[0;32melse\u001b[0m\u001b[0;34m:\u001b[0m\u001b[0;34m\u001b[0m\u001b[0;34m\u001b[0m\u001b[0m\n",
            "\u001b[0;31mFileNotFoundError\u001b[0m: [Errno 2] No such file or directory: 'iris.csv'"
          ]
        }
      ]
    }
  ],
  "metadata": {
    "colab": {
      "collapsed_sections": [],
      "provenance": [],
      "authorship_tag": "ABX9TyO2FhPfJBW82o29Ncvds3Xc"
    },
    "gpuClass": "standard",
    "kernelspec": {
      "display_name": "Python 3",
      "name": "python3"
    },
    "language_info": {
      "name": "python"
    }
  },
  "nbformat": 4,
  "nbformat_minor": 0
}